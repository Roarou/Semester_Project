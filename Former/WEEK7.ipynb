{
  "nbformat": 4,
  "nbformat_minor": 0,
  "metadata": {
    "colab": {
      "name": "WEEK7.ipynb",
      "provenance": [],
      "collapsed_sections": [],
      "authorship_tag": "ABX9TyPhYcFyoRS7gfV179yis1Zu",
      "include_colab_link": true
    },
    "kernelspec": {
      "name": "python3",
      "display_name": "Python 3"
    },
    "language_info": {
      "name": "python"
    }
  },
  "cells": [
    {
      "cell_type": "markdown",
      "metadata": {
        "id": "view-in-github",
        "colab_type": "text"
      },
      "source": [
        "<a href=\"https://colab.research.google.com/github/Roarou/Semester_Project/blob/main/WEEK7.ipynb\" target=\"_parent\"><img src=\"https://colab.research.google.com/assets/colab-badge.svg\" alt=\"Open In Colab\"/></a>"
      ]
    },
    {
      "cell_type": "code",
      "execution_count": null,
      "metadata": {
        "colab": {
          "resources": {
            "http://localhost:8080/nbextensions/google.colab/files.js": {
              "data": "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",
              "ok": true,
              "headers": [
                [
                  "content-type",
                  "application/javascript"
                ]
              ],
              "status": 200,
              "status_text": ""
            }
          },
          "base_uri": "https://localhost:8080/",
          "height": 241
        },
        "id": "RcAbTQ6G2AeA",
        "outputId": "d771beb3-8981-4ac6-b980-8a86d44094f2"
      },
      "outputs": [
        {
          "output_type": "display_data",
          "data": {
            "text/plain": [
              "<IPython.core.display.HTML object>"
            ],
            "text/html": [
              "\n",
              "     <input type=\"file\" id=\"files-8c698c89-e948-4591-a852-63a31ba36553\" name=\"files[]\" multiple disabled\n",
              "        style=\"border:none\" />\n",
              "     <output id=\"result-8c698c89-e948-4591-a852-63a31ba36553\">\n",
              "      Upload widget is only available when the cell has been executed in the\n",
              "      current browser session. Please rerun this cell to enable.\n",
              "      </output>\n",
              "      <script src=\"/nbextensions/google.colab/files.js\"></script> "
            ]
          },
          "metadata": {}
        },
        {
          "output_type": "stream",
          "name": "stdout",
          "text": [
            "Saving Exp1Normal01.txt to Exp1Normal01.txt\n"
          ]
        },
        {
          "output_type": "display_data",
          "data": {
            "text/plain": [
              "<IPython.core.display.HTML object>"
            ],
            "text/html": [
              "\n",
              "     <input type=\"file\" id=\"files-662f8ac6-baec-4361-b7ee-b0c7715b42c5\" name=\"files[]\" multiple disabled\n",
              "        style=\"border:none\" />\n",
              "     <output id=\"result-662f8ac6-baec-4361-b7ee-b0c7715b42c5\">\n",
              "      Upload widget is only available when the cell has been executed in the\n",
              "      current browser session. Please rerun this cell to enable.\n",
              "      </output>\n",
              "      <script src=\"/nbextensions/google.colab/files.js\"></script> "
            ]
          },
          "metadata": {}
        },
        {
          "output_type": "stream",
          "name": "stdout",
          "text": [
            "Saving Exp1Normal02.txt to Exp1Normal02.txt\n"
          ]
        },
        {
          "output_type": "display_data",
          "data": {
            "text/plain": [
              "<IPython.core.display.HTML object>"
            ],
            "text/html": [
              "\n",
              "     <input type=\"file\" id=\"files-03eb916d-3ade-4e11-bb36-96b77d687faf\" name=\"files[]\" multiple disabled\n",
              "        style=\"border:none\" />\n",
              "     <output id=\"result-03eb916d-3ade-4e11-bb36-96b77d687faf\">\n",
              "      Upload widget is only available when the cell has been executed in the\n",
              "      current browser session. Please rerun this cell to enable.\n",
              "      </output>\n",
              "      <script src=\"/nbextensions/google.colab/files.js\"></script> "
            ]
          },
          "metadata": {}
        },
        {
          "output_type": "stream",
          "name": "stdout",
          "text": [
            "Saving Exp1Normal03.txt to Exp1Normal03.txt\n"
          ]
        },
        {
          "output_type": "display_data",
          "data": {
            "text/plain": [
              "<IPython.core.display.HTML object>"
            ],
            "text/html": [
              "\n",
              "     <input type=\"file\" id=\"files-c39091d3-2ad2-4bac-acf8-2e08f0145188\" name=\"files[]\" multiple disabled\n",
              "        style=\"border:none\" />\n",
              "     <output id=\"result-c39091d3-2ad2-4bac-acf8-2e08f0145188\">\n",
              "      Upload widget is only available when the cell has been executed in the\n",
              "      current browser session. Please rerun this cell to enable.\n",
              "      </output>\n",
              "      <script src=\"/nbextensions/google.colab/files.js\"></script> "
            ]
          },
          "metadata": {}
        },
        {
          "output_type": "stream",
          "name": "stdout",
          "text": [
            "Saving Exp1Normal04.txt to Exp1Normal04.txt\n"
          ]
        }
      ],
      "source": [
        "#LOADING DATA\n",
        "from google.colab import files\n",
        "train_file1 = list(files.upload().keys())[0]\n",
        "train_file2 = list(files.upload().keys())[0]\n",
        "train_file3 = list(files.upload().keys())[0]\n",
        "test_file = list(files.upload().keys())[0]"
      ]
    },
    {
      "cell_type": "code",
      "source": [
        "from __future__ import absolute_import, division, print_function, unicode_literals\n",
        "\n",
        "import numpy as np\n",
        "import pandas as pd\n",
        "import matplotlib.pyplot as plt\n",
        "from IPython.display import clear_output\n",
        "import sklearn\n",
        "from sklearn.cluster import KMeans\n",
        "\n",
        "from sklearn.preprocessing import scale\n",
        "import sklearn.metrics as sm \n",
        "from sklearn import datasets\n",
        "from sklearn.metrics import confusion_matrix,classification_report\n",
        "\n",
        "import tensorflow.compat.v2.feature_column as fc\n",
        "\n",
        "import tensorflow as tf"
      ],
      "metadata": {
        "id": "9-sBwCYi2LLQ"
      },
      "execution_count": null,
      "outputs": []
    },
    {
      "cell_type": "code",
      "source": [
        "#READING DATA\n",
        "dftrain1 = pd.read_csv(train_file1,sep='\\t')\n",
        "dftrain2 = pd.read_csv(train_file2,sep='\\t')\n",
        "dftrain3 = pd.read_csv(train_file3,sep='\\t')\n",
        "deval = pd.read_csv(test_file,sep='\\t')"
      ],
      "metadata": {
        "id": "Y67NlJ-z2O0Q"
      },
      "execution_count": null,
      "outputs": []
    },
    {
      "cell_type": "code",
      "source": [
        "dftrain1.head()"
      ],
      "metadata": {
        "colab": {
          "base_uri": "https://localhost:8080/",
          "height": 204
        },
        "id": "y03CdqRn2bT2",
        "outputId": "363c3918-b93f-4f4e-b085-eccc764b5c50"
      },
      "execution_count": null,
      "outputs": [
        {
          "output_type": "execute_result",
          "data": {
            "text/plain": [
              "   Event Start Trial Time [ms]  Event End Trial Time [ms]  \\\n",
              "0                        568.0                     1467.0   \n",
              "1                       1484.0                     1604.0   \n",
              "2                       1645.0                     1765.0   \n",
              "3                       1789.0                     1969.0   \n",
              "4                       2995.0                     3105.0   \n",
              "\n",
              "   Event Duration [ms]  Visual Intake Position X [px]  \\\n",
              "0                899.0                          912.0   \n",
              "1                120.0                          911.0   \n",
              "2                120.0                          846.0   \n",
              "3                180.0                          862.0   \n",
              "4                110.0                         1230.0   \n",
              "\n",
              "   Visual Intake Position Y [px]    Event  \n",
              "0                          567.0  Cap Off  \n",
              "1                          547.0  Cap Off  \n",
              "2                          581.0  Cap Off  \n",
              "3                          570.0  Cap Off  \n",
              "4                          514.0  Cap Off  "
            ],
            "text/html": [
              "\n",
              "  <div id=\"df-05af86d8-a16c-4900-9769-31dcd16825af\">\n",
              "    <div class=\"colab-df-container\">\n",
              "      <div>\n",
              "<style scoped>\n",
              "    .dataframe tbody tr th:only-of-type {\n",
              "        vertical-align: middle;\n",
              "    }\n",
              "\n",
              "    .dataframe tbody tr th {\n",
              "        vertical-align: top;\n",
              "    }\n",
              "\n",
              "    .dataframe thead th {\n",
              "        text-align: right;\n",
              "    }\n",
              "</style>\n",
              "<table border=\"1\" class=\"dataframe\">\n",
              "  <thead>\n",
              "    <tr style=\"text-align: right;\">\n",
              "      <th></th>\n",
              "      <th>Event Start Trial Time [ms]</th>\n",
              "      <th>Event End Trial Time [ms]</th>\n",
              "      <th>Event Duration [ms]</th>\n",
              "      <th>Visual Intake Position X [px]</th>\n",
              "      <th>Visual Intake Position Y [px]</th>\n",
              "      <th>Event</th>\n",
              "    </tr>\n",
              "  </thead>\n",
              "  <tbody>\n",
              "    <tr>\n",
              "      <th>0</th>\n",
              "      <td>568.0</td>\n",
              "      <td>1467.0</td>\n",
              "      <td>899.0</td>\n",
              "      <td>912.0</td>\n",
              "      <td>567.0</td>\n",
              "      <td>Cap Off</td>\n",
              "    </tr>\n",
              "    <tr>\n",
              "      <th>1</th>\n",
              "      <td>1484.0</td>\n",
              "      <td>1604.0</td>\n",
              "      <td>120.0</td>\n",
              "      <td>911.0</td>\n",
              "      <td>547.0</td>\n",
              "      <td>Cap Off</td>\n",
              "    </tr>\n",
              "    <tr>\n",
              "      <th>2</th>\n",
              "      <td>1645.0</td>\n",
              "      <td>1765.0</td>\n",
              "      <td>120.0</td>\n",
              "      <td>846.0</td>\n",
              "      <td>581.0</td>\n",
              "      <td>Cap Off</td>\n",
              "    </tr>\n",
              "    <tr>\n",
              "      <th>3</th>\n",
              "      <td>1789.0</td>\n",
              "      <td>1969.0</td>\n",
              "      <td>180.0</td>\n",
              "      <td>862.0</td>\n",
              "      <td>570.0</td>\n",
              "      <td>Cap Off</td>\n",
              "    </tr>\n",
              "    <tr>\n",
              "      <th>4</th>\n",
              "      <td>2995.0</td>\n",
              "      <td>3105.0</td>\n",
              "      <td>110.0</td>\n",
              "      <td>1230.0</td>\n",
              "      <td>514.0</td>\n",
              "      <td>Cap Off</td>\n",
              "    </tr>\n",
              "  </tbody>\n",
              "</table>\n",
              "</div>\n",
              "      <button class=\"colab-df-convert\" onclick=\"convertToInteractive('df-05af86d8-a16c-4900-9769-31dcd16825af')\"\n",
              "              title=\"Convert this dataframe to an interactive table.\"\n",
              "              style=\"display:none;\">\n",
              "        \n",
              "  <svg xmlns=\"http://www.w3.org/2000/svg\" height=\"24px\"viewBox=\"0 0 24 24\"\n",
              "       width=\"24px\">\n",
              "    <path d=\"M0 0h24v24H0V0z\" fill=\"none\"/>\n",
              "    <path d=\"M18.56 5.44l.94 2.06.94-2.06 2.06-.94-2.06-.94-.94-2.06-.94 2.06-2.06.94zm-11 1L8.5 8.5l.94-2.06 2.06-.94-2.06-.94L8.5 2.5l-.94 2.06-2.06.94zm10 10l.94 2.06.94-2.06 2.06-.94-2.06-.94-.94-2.06-.94 2.06-2.06.94z\"/><path d=\"M17.41 7.96l-1.37-1.37c-.4-.4-.92-.59-1.43-.59-.52 0-1.04.2-1.43.59L10.3 9.45l-7.72 7.72c-.78.78-.78 2.05 0 2.83L4 21.41c.39.39.9.59 1.41.59.51 0 1.02-.2 1.41-.59l7.78-7.78 2.81-2.81c.8-.78.8-2.07 0-2.86zM5.41 20L4 18.59l7.72-7.72 1.47 1.35L5.41 20z\"/>\n",
              "  </svg>\n",
              "      </button>\n",
              "      \n",
              "  <style>\n",
              "    .colab-df-container {\n",
              "      display:flex;\n",
              "      flex-wrap:wrap;\n",
              "      gap: 12px;\n",
              "    }\n",
              "\n",
              "    .colab-df-convert {\n",
              "      background-color: #E8F0FE;\n",
              "      border: none;\n",
              "      border-radius: 50%;\n",
              "      cursor: pointer;\n",
              "      display: none;\n",
              "      fill: #1967D2;\n",
              "      height: 32px;\n",
              "      padding: 0 0 0 0;\n",
              "      width: 32px;\n",
              "    }\n",
              "\n",
              "    .colab-df-convert:hover {\n",
              "      background-color: #E2EBFA;\n",
              "      box-shadow: 0px 1px 2px rgba(60, 64, 67, 0.3), 0px 1px 3px 1px rgba(60, 64, 67, 0.15);\n",
              "      fill: #174EA6;\n",
              "    }\n",
              "\n",
              "    [theme=dark] .colab-df-convert {\n",
              "      background-color: #3B4455;\n",
              "      fill: #D2E3FC;\n",
              "    }\n",
              "\n",
              "    [theme=dark] .colab-df-convert:hover {\n",
              "      background-color: #434B5C;\n",
              "      box-shadow: 0px 1px 3px 1px rgba(0, 0, 0, 0.15);\n",
              "      filter: drop-shadow(0px 1px 2px rgba(0, 0, 0, 0.3));\n",
              "      fill: #FFFFFF;\n",
              "    }\n",
              "  </style>\n",
              "\n",
              "      <script>\n",
              "        const buttonEl =\n",
              "          document.querySelector('#df-05af86d8-a16c-4900-9769-31dcd16825af button.colab-df-convert');\n",
              "        buttonEl.style.display =\n",
              "          google.colab.kernel.accessAllowed ? 'block' : 'none';\n",
              "\n",
              "        async function convertToInteractive(key) {\n",
              "          const element = document.querySelector('#df-05af86d8-a16c-4900-9769-31dcd16825af');\n",
              "          const dataTable =\n",
              "            await google.colab.kernel.invokeFunction('convertToInteractive',\n",
              "                                                     [key], {});\n",
              "          if (!dataTable) return;\n",
              "\n",
              "          const docLinkHtml = 'Like what you see? Visit the ' +\n",
              "            '<a target=\"_blank\" href=https://colab.research.google.com/notebooks/data_table.ipynb>data table notebook</a>'\n",
              "            + ' to learn more about interactive tables.';\n",
              "          element.innerHTML = '';\n",
              "          dataTable['output_type'] = 'display_data';\n",
              "          await google.colab.output.renderOutput(dataTable, element);\n",
              "          const docLink = document.createElement('div');\n",
              "          docLink.innerHTML = docLinkHtml;\n",
              "          element.appendChild(docLink);\n",
              "        }\n",
              "      </script>\n",
              "    </div>\n",
              "  </div>\n",
              "  "
            ]
          },
          "metadata": {},
          "execution_count": 307
        }
      ]
    },
    {
      "cell_type": "code",
      "source": [
        "#DATA VISUALISATION\n",
        "deval.head()"
      ],
      "metadata": {
        "colab": {
          "base_uri": "https://localhost:8080/",
          "height": 204
        },
        "id": "sYzvwaeQ5f1-",
        "outputId": "61aaec20-72f7-4cc3-ec5a-a512cd8c9a82"
      },
      "execution_count": null,
      "outputs": [
        {
          "output_type": "execute_result",
          "data": {
            "text/plain": [
              "   Event Start Trial Time [ms]  Event End Trial Time [ms]  \\\n",
              "0                        355.0                      425.0   \n",
              "1                        450.0                     1449.0   \n",
              "2                       1568.0                     1658.0   \n",
              "3                       1939.0                     2069.0   \n",
              "4                       2236.0                     2326.0   \n",
              "\n",
              "   Event Duration [ms]  Visual Intake Position X [px]  \\\n",
              "0                 70.0                          911.0   \n",
              "1                999.0                          934.0   \n",
              "2                 90.0                          970.0   \n",
              "3                130.0                          996.0   \n",
              "4                 90.0                          953.0   \n",
              "\n",
              "   Visual Intake Position Y [px]    Event  \n",
              "0                          515.0  Cap Off  \n",
              "1                          512.0  Cap Off  \n",
              "2                          531.0  Cap Off  \n",
              "3                          556.0  Cap Off  \n",
              "4                          538.0  Cap Off  "
            ],
            "text/html": [
              "\n",
              "  <div id=\"df-7261ce35-e9b8-4b28-a478-708633a4fe4b\">\n",
              "    <div class=\"colab-df-container\">\n",
              "      <div>\n",
              "<style scoped>\n",
              "    .dataframe tbody tr th:only-of-type {\n",
              "        vertical-align: middle;\n",
              "    }\n",
              "\n",
              "    .dataframe tbody tr th {\n",
              "        vertical-align: top;\n",
              "    }\n",
              "\n",
              "    .dataframe thead th {\n",
              "        text-align: right;\n",
              "    }\n",
              "</style>\n",
              "<table border=\"1\" class=\"dataframe\">\n",
              "  <thead>\n",
              "    <tr style=\"text-align: right;\">\n",
              "      <th></th>\n",
              "      <th>Event Start Trial Time [ms]</th>\n",
              "      <th>Event End Trial Time [ms]</th>\n",
              "      <th>Event Duration [ms]</th>\n",
              "      <th>Visual Intake Position X [px]</th>\n",
              "      <th>Visual Intake Position Y [px]</th>\n",
              "      <th>Event</th>\n",
              "    </tr>\n",
              "  </thead>\n",
              "  <tbody>\n",
              "    <tr>\n",
              "      <th>0</th>\n",
              "      <td>355.0</td>\n",
              "      <td>425.0</td>\n",
              "      <td>70.0</td>\n",
              "      <td>911.0</td>\n",
              "      <td>515.0</td>\n",
              "      <td>Cap Off</td>\n",
              "    </tr>\n",
              "    <tr>\n",
              "      <th>1</th>\n",
              "      <td>450.0</td>\n",
              "      <td>1449.0</td>\n",
              "      <td>999.0</td>\n",
              "      <td>934.0</td>\n",
              "      <td>512.0</td>\n",
              "      <td>Cap Off</td>\n",
              "    </tr>\n",
              "    <tr>\n",
              "      <th>2</th>\n",
              "      <td>1568.0</td>\n",
              "      <td>1658.0</td>\n",
              "      <td>90.0</td>\n",
              "      <td>970.0</td>\n",
              "      <td>531.0</td>\n",
              "      <td>Cap Off</td>\n",
              "    </tr>\n",
              "    <tr>\n",
              "      <th>3</th>\n",
              "      <td>1939.0</td>\n",
              "      <td>2069.0</td>\n",
              "      <td>130.0</td>\n",
              "      <td>996.0</td>\n",
              "      <td>556.0</td>\n",
              "      <td>Cap Off</td>\n",
              "    </tr>\n",
              "    <tr>\n",
              "      <th>4</th>\n",
              "      <td>2236.0</td>\n",
              "      <td>2326.0</td>\n",
              "      <td>90.0</td>\n",
              "      <td>953.0</td>\n",
              "      <td>538.0</td>\n",
              "      <td>Cap Off</td>\n",
              "    </tr>\n",
              "  </tbody>\n",
              "</table>\n",
              "</div>\n",
              "      <button class=\"colab-df-convert\" onclick=\"convertToInteractive('df-7261ce35-e9b8-4b28-a478-708633a4fe4b')\"\n",
              "              title=\"Convert this dataframe to an interactive table.\"\n",
              "              style=\"display:none;\">\n",
              "        \n",
              "  <svg xmlns=\"http://www.w3.org/2000/svg\" height=\"24px\"viewBox=\"0 0 24 24\"\n",
              "       width=\"24px\">\n",
              "    <path d=\"M0 0h24v24H0V0z\" fill=\"none\"/>\n",
              "    <path d=\"M18.56 5.44l.94 2.06.94-2.06 2.06-.94-2.06-.94-.94-2.06-.94 2.06-2.06.94zm-11 1L8.5 8.5l.94-2.06 2.06-.94-2.06-.94L8.5 2.5l-.94 2.06-2.06.94zm10 10l.94 2.06.94-2.06 2.06-.94-2.06-.94-.94-2.06-.94 2.06-2.06.94z\"/><path d=\"M17.41 7.96l-1.37-1.37c-.4-.4-.92-.59-1.43-.59-.52 0-1.04.2-1.43.59L10.3 9.45l-7.72 7.72c-.78.78-.78 2.05 0 2.83L4 21.41c.39.39.9.59 1.41.59.51 0 1.02-.2 1.41-.59l7.78-7.78 2.81-2.81c.8-.78.8-2.07 0-2.86zM5.41 20L4 18.59l7.72-7.72 1.47 1.35L5.41 20z\"/>\n",
              "  </svg>\n",
              "      </button>\n",
              "      \n",
              "  <style>\n",
              "    .colab-df-container {\n",
              "      display:flex;\n",
              "      flex-wrap:wrap;\n",
              "      gap: 12px;\n",
              "    }\n",
              "\n",
              "    .colab-df-convert {\n",
              "      background-color: #E8F0FE;\n",
              "      border: none;\n",
              "      border-radius: 50%;\n",
              "      cursor: pointer;\n",
              "      display: none;\n",
              "      fill: #1967D2;\n",
              "      height: 32px;\n",
              "      padding: 0 0 0 0;\n",
              "      width: 32px;\n",
              "    }\n",
              "\n",
              "    .colab-df-convert:hover {\n",
              "      background-color: #E2EBFA;\n",
              "      box-shadow: 0px 1px 2px rgba(60, 64, 67, 0.3), 0px 1px 3px 1px rgba(60, 64, 67, 0.15);\n",
              "      fill: #174EA6;\n",
              "    }\n",
              "\n",
              "    [theme=dark] .colab-df-convert {\n",
              "      background-color: #3B4455;\n",
              "      fill: #D2E3FC;\n",
              "    }\n",
              "\n",
              "    [theme=dark] .colab-df-convert:hover {\n",
              "      background-color: #434B5C;\n",
              "      box-shadow: 0px 1px 3px 1px rgba(0, 0, 0, 0.15);\n",
              "      filter: drop-shadow(0px 1px 2px rgba(0, 0, 0, 0.3));\n",
              "      fill: #FFFFFF;\n",
              "    }\n",
              "  </style>\n",
              "\n",
              "      <script>\n",
              "        const buttonEl =\n",
              "          document.querySelector('#df-7261ce35-e9b8-4b28-a478-708633a4fe4b button.colab-df-convert');\n",
              "        buttonEl.style.display =\n",
              "          google.colab.kernel.accessAllowed ? 'block' : 'none';\n",
              "\n",
              "        async function convertToInteractive(key) {\n",
              "          const element = document.querySelector('#df-7261ce35-e9b8-4b28-a478-708633a4fe4b');\n",
              "          const dataTable =\n",
              "            await google.colab.kernel.invokeFunction('convertToInteractive',\n",
              "                                                     [key], {});\n",
              "          if (!dataTable) return;\n",
              "\n",
              "          const docLinkHtml = 'Like what you see? Visit the ' +\n",
              "            '<a target=\"_blank\" href=https://colab.research.google.com/notebooks/data_table.ipynb>data table notebook</a>'\n",
              "            + ' to learn more about interactive tables.';\n",
              "          element.innerHTML = '';\n",
              "          dataTable['output_type'] = 'display_data';\n",
              "          await google.colab.output.renderOutput(dataTable, element);\n",
              "          const docLink = document.createElement('div');\n",
              "          docLink.innerHTML = docLinkHtml;\n",
              "          element.appendChild(docLink);\n",
              "        }\n",
              "      </script>\n",
              "    </div>\n",
              "  </div>\n",
              "  "
            ]
          },
          "metadata": {},
          "execution_count": 308
        }
      ]
    },
    {
      "cell_type": "code",
      "source": [
        "dftrain1.columns\n"
      ],
      "metadata": {
        "colab": {
          "base_uri": "https://localhost:8080/"
        },
        "id": "MZn3a1vW3gNA",
        "outputId": "a121db75-0042-42da-ed85-f293ac7359e6"
      },
      "execution_count": null,
      "outputs": [
        {
          "output_type": "execute_result",
          "data": {
            "text/plain": [
              "Index(['Event Start Trial Time [ms]', 'Event End Trial Time [ms]',\n",
              "       'Event Duration [ms]', 'Visual Intake Position X [px]',\n",
              "       'Visual Intake Position Y [px]', 'Event'],\n",
              "      dtype='object')"
            ]
          },
          "metadata": {},
          "execution_count": 5
        }
      ]
    },
    {
      "cell_type": "code",
      "source": [
        "COLUMNS_CATEGORIES= [ 'Start_time'     , 'End_Time',\n",
        "                      'Event_Duration' , 'Position_X',\n",
        "                      'Position_Y'  \n",
        "                     ]\n",
        "LABEL_CATEGORIES = ['Event']\n",
        "#UNCOMPATIBILITY BETWEEN [] AND TENSORFLOW\n",
        "dftrain1=dftrain1.rename(columns={'Event Start Trial Time [ms]'   : 'Start_time',\n",
        "                                'Event End Trial Time [ms]'     : 'End_Time',\n",
        "                                'Event Duration [ms]'           : 'Event_Duration',\n",
        "                                'Visual Intake Position X [px]' : 'Position_X',\n",
        "                                'Visual Intake Position Y [px]' : 'Position_Y'})\n",
        "dftrain2=dftrain2.rename(columns={'Event Start Trial Time [ms]'   : 'Start_time',\n",
        "                                'Event End Trial Time [ms]'     : 'End_Time',\n",
        "                                'Event Duration [ms]'           : 'Event_Duration',\n",
        "                                'Visual Intake Position X [px]' : 'Position_X',\n",
        "                                'Visual Intake Position Y [px]' : 'Position_Y'})\n",
        "dftrain3=dftrain3.rename(columns={'Event Start Trial Time [ms]'   : 'Start_time',\n",
        "                                'Event End Trial Time [ms]'     : 'End_Time',\n",
        "                                'Event Duration [ms]'           : 'Event_Duration',\n",
        "                                'Visual Intake Position X [px]' : 'Position_X',\n",
        "                                'Visual Intake Position Y [px]' : 'Position_Y'})\n",
        "deval=deval.rename(columns={'Event Start Trial Time [ms]'   : 'Start_time',\n",
        "                                'Event End Trial Time [ms]'     : 'End_Time',\n",
        "                                'Event Duration [ms]'           : 'Event_Duration',\n",
        "                                'Visual Intake Position X [px]' : 'Position_X',\n",
        "                                'Visual Intake Position Y [px]' : 'Position_Y'})\n",
        "dftrain1.head()"
      ],
      "metadata": {
        "colab": {
          "base_uri": "https://localhost:8080/",
          "height": 204
        },
        "id": "dIreiZfA4RPo",
        "outputId": "c17e7510-5b5e-4cea-e58f-2b68719b4f28"
      },
      "execution_count": null,
      "outputs": [
        {
          "output_type": "execute_result",
          "data": {
            "text/plain": [
              "   Start_time  End_Time  Event_Duration  Position_X  Position_Y    Event\n",
              "0       568.0    1467.0           899.0       912.0       567.0  Cap Off\n",
              "1      1484.0    1604.0           120.0       911.0       547.0  Cap Off\n",
              "2      1645.0    1765.0           120.0       846.0       581.0  Cap Off\n",
              "3      1789.0    1969.0           180.0       862.0       570.0  Cap Off\n",
              "4      2995.0    3105.0           110.0      1230.0       514.0  Cap Off"
            ],
            "text/html": [
              "\n",
              "  <div id=\"df-4bb59bb2-197c-474b-a667-0beb2b87b5e1\">\n",
              "    <div class=\"colab-df-container\">\n",
              "      <div>\n",
              "<style scoped>\n",
              "    .dataframe tbody tr th:only-of-type {\n",
              "        vertical-align: middle;\n",
              "    }\n",
              "\n",
              "    .dataframe tbody tr th {\n",
              "        vertical-align: top;\n",
              "    }\n",
              "\n",
              "    .dataframe thead th {\n",
              "        text-align: right;\n",
              "    }\n",
              "</style>\n",
              "<table border=\"1\" class=\"dataframe\">\n",
              "  <thead>\n",
              "    <tr style=\"text-align: right;\">\n",
              "      <th></th>\n",
              "      <th>Start_time</th>\n",
              "      <th>End_Time</th>\n",
              "      <th>Event_Duration</th>\n",
              "      <th>Position_X</th>\n",
              "      <th>Position_Y</th>\n",
              "      <th>Event</th>\n",
              "    </tr>\n",
              "  </thead>\n",
              "  <tbody>\n",
              "    <tr>\n",
              "      <th>0</th>\n",
              "      <td>568.0</td>\n",
              "      <td>1467.0</td>\n",
              "      <td>899.0</td>\n",
              "      <td>912.0</td>\n",
              "      <td>567.0</td>\n",
              "      <td>Cap Off</td>\n",
              "    </tr>\n",
              "    <tr>\n",
              "      <th>1</th>\n",
              "      <td>1484.0</td>\n",
              "      <td>1604.0</td>\n",
              "      <td>120.0</td>\n",
              "      <td>911.0</td>\n",
              "      <td>547.0</td>\n",
              "      <td>Cap Off</td>\n",
              "    </tr>\n",
              "    <tr>\n",
              "      <th>2</th>\n",
              "      <td>1645.0</td>\n",
              "      <td>1765.0</td>\n",
              "      <td>120.0</td>\n",
              "      <td>846.0</td>\n",
              "      <td>581.0</td>\n",
              "      <td>Cap Off</td>\n",
              "    </tr>\n",
              "    <tr>\n",
              "      <th>3</th>\n",
              "      <td>1789.0</td>\n",
              "      <td>1969.0</td>\n",
              "      <td>180.0</td>\n",
              "      <td>862.0</td>\n",
              "      <td>570.0</td>\n",
              "      <td>Cap Off</td>\n",
              "    </tr>\n",
              "    <tr>\n",
              "      <th>4</th>\n",
              "      <td>2995.0</td>\n",
              "      <td>3105.0</td>\n",
              "      <td>110.0</td>\n",
              "      <td>1230.0</td>\n",
              "      <td>514.0</td>\n",
              "      <td>Cap Off</td>\n",
              "    </tr>\n",
              "  </tbody>\n",
              "</table>\n",
              "</div>\n",
              "      <button class=\"colab-df-convert\" onclick=\"convertToInteractive('df-4bb59bb2-197c-474b-a667-0beb2b87b5e1')\"\n",
              "              title=\"Convert this dataframe to an interactive table.\"\n",
              "              style=\"display:none;\">\n",
              "        \n",
              "  <svg xmlns=\"http://www.w3.org/2000/svg\" height=\"24px\"viewBox=\"0 0 24 24\"\n",
              "       width=\"24px\">\n",
              "    <path d=\"M0 0h24v24H0V0z\" fill=\"none\"/>\n",
              "    <path d=\"M18.56 5.44l.94 2.06.94-2.06 2.06-.94-2.06-.94-.94-2.06-.94 2.06-2.06.94zm-11 1L8.5 8.5l.94-2.06 2.06-.94-2.06-.94L8.5 2.5l-.94 2.06-2.06.94zm10 10l.94 2.06.94-2.06 2.06-.94-2.06-.94-.94-2.06-.94 2.06-2.06.94z\"/><path d=\"M17.41 7.96l-1.37-1.37c-.4-.4-.92-.59-1.43-.59-.52 0-1.04.2-1.43.59L10.3 9.45l-7.72 7.72c-.78.78-.78 2.05 0 2.83L4 21.41c.39.39.9.59 1.41.59.51 0 1.02-.2 1.41-.59l7.78-7.78 2.81-2.81c.8-.78.8-2.07 0-2.86zM5.41 20L4 18.59l7.72-7.72 1.47 1.35L5.41 20z\"/>\n",
              "  </svg>\n",
              "      </button>\n",
              "      \n",
              "  <style>\n",
              "    .colab-df-container {\n",
              "      display:flex;\n",
              "      flex-wrap:wrap;\n",
              "      gap: 12px;\n",
              "    }\n",
              "\n",
              "    .colab-df-convert {\n",
              "      background-color: #E8F0FE;\n",
              "      border: none;\n",
              "      border-radius: 50%;\n",
              "      cursor: pointer;\n",
              "      display: none;\n",
              "      fill: #1967D2;\n",
              "      height: 32px;\n",
              "      padding: 0 0 0 0;\n",
              "      width: 32px;\n",
              "    }\n",
              "\n",
              "    .colab-df-convert:hover {\n",
              "      background-color: #E2EBFA;\n",
              "      box-shadow: 0px 1px 2px rgba(60, 64, 67, 0.3), 0px 1px 3px 1px rgba(60, 64, 67, 0.15);\n",
              "      fill: #174EA6;\n",
              "    }\n",
              "\n",
              "    [theme=dark] .colab-df-convert {\n",
              "      background-color: #3B4455;\n",
              "      fill: #D2E3FC;\n",
              "    }\n",
              "\n",
              "    [theme=dark] .colab-df-convert:hover {\n",
              "      background-color: #434B5C;\n",
              "      box-shadow: 0px 1px 3px 1px rgba(0, 0, 0, 0.15);\n",
              "      filter: drop-shadow(0px 1px 2px rgba(0, 0, 0, 0.3));\n",
              "      fill: #FFFFFF;\n",
              "    }\n",
              "  </style>\n",
              "\n",
              "      <script>\n",
              "        const buttonEl =\n",
              "          document.querySelector('#df-4bb59bb2-197c-474b-a667-0beb2b87b5e1 button.colab-df-convert');\n",
              "        buttonEl.style.display =\n",
              "          google.colab.kernel.accessAllowed ? 'block' : 'none';\n",
              "\n",
              "        async function convertToInteractive(key) {\n",
              "          const element = document.querySelector('#df-4bb59bb2-197c-474b-a667-0beb2b87b5e1');\n",
              "          const dataTable =\n",
              "            await google.colab.kernel.invokeFunction('convertToInteractive',\n",
              "                                                     [key], {});\n",
              "          if (!dataTable) return;\n",
              "\n",
              "          const docLinkHtml = 'Like what you see? Visit the ' +\n",
              "            '<a target=\"_blank\" href=https://colab.research.google.com/notebooks/data_table.ipynb>data table notebook</a>'\n",
              "            + ' to learn more about interactive tables.';\n",
              "          element.innerHTML = '';\n",
              "          dataTable['output_type'] = 'display_data';\n",
              "          await google.colab.output.renderOutput(dataTable, element);\n",
              "          const docLink = document.createElement('div');\n",
              "          docLink.innerHTML = docLinkHtml;\n",
              "          element.appendChild(docLink);\n",
              "        }\n",
              "      </script>\n",
              "    </div>\n",
              "  </div>\n",
              "  "
            ]
          },
          "metadata": {},
          "execution_count": 6
        }
      ]
    },
    {
      "cell_type": "code",
      "source": [
        "feature_columns = []\n",
        "labels = []\n",
        "for feature_name in LABEL_CATEGORIES:\n",
        "  vocabulary = dftrain1[feature_name].unique()  # gets a list of all unique values from given feature column\n",
        "  labels.append(tf.feature_column.categorical_column_with_vocabulary_list(feature_name, vocabulary))\n",
        "\n",
        "for feature_name in COLUMNS_CATEGORIES:\n",
        "  feature_columns.append(tf.feature_column.numeric_column(feature_name, dtype=tf.float32))\n",
        "\n",
        "print(labels)"
      ],
      "metadata": {
        "colab": {
          "base_uri": "https://localhost:8080/"
        },
        "id": "BoiMi1Os6NoZ",
        "outputId": "0e953c1c-be7c-4a73-c30d-85bd7ab26e7d"
      },
      "execution_count": null,
      "outputs": [
        {
          "output_type": "stream",
          "name": "stdout",
          "text": [
            "[VocabularyListCategoricalColumn(key='Event', vocabulary_list=('Cap Off', 'Apply Tip', 'Setting Units', 'Priming', 'Injection', 'Remove Tip', 'Cap On'), dtype=tf.string, default_value=-1, num_oov_buckets=0)]\n"
          ]
        }
      ]
    },
    {
      "cell_type": "code",
      "source": [
        "y_train1 = dftrain1.pop('Event')\n",
        "y_train2 = dftrain2.pop('Event')\n",
        "y_train3 = dftrain3.pop('Event')\n",
        "y_eval = deval.pop('Event')\n",
        "dftrain1.head()"
      ],
      "metadata": {
        "colab": {
          "base_uri": "https://localhost:8080/",
          "height": 204
        },
        "id": "zHPTUpQg7olB",
        "outputId": "7c754f01-ad9c-4d3d-bf95-609723906270"
      },
      "execution_count": null,
      "outputs": [
        {
          "output_type": "execute_result",
          "data": {
            "text/plain": [
              "   Start_time  End_Time  Event_Duration  Position_X  Position_Y\n",
              "0       568.0    1467.0           899.0       912.0       567.0\n",
              "1      1484.0    1604.0           120.0       911.0       547.0\n",
              "2      1645.0    1765.0           120.0       846.0       581.0\n",
              "3      1789.0    1969.0           180.0       862.0       570.0\n",
              "4      2995.0    3105.0           110.0      1230.0       514.0"
            ],
            "text/html": [
              "\n",
              "  <div id=\"df-83a57363-a279-4ac3-aa9d-3a8147a929ed\">\n",
              "    <div class=\"colab-df-container\">\n",
              "      <div>\n",
              "<style scoped>\n",
              "    .dataframe tbody tr th:only-of-type {\n",
              "        vertical-align: middle;\n",
              "    }\n",
              "\n",
              "    .dataframe tbody tr th {\n",
              "        vertical-align: top;\n",
              "    }\n",
              "\n",
              "    .dataframe thead th {\n",
              "        text-align: right;\n",
              "    }\n",
              "</style>\n",
              "<table border=\"1\" class=\"dataframe\">\n",
              "  <thead>\n",
              "    <tr style=\"text-align: right;\">\n",
              "      <th></th>\n",
              "      <th>Start_time</th>\n",
              "      <th>End_Time</th>\n",
              "      <th>Event_Duration</th>\n",
              "      <th>Position_X</th>\n",
              "      <th>Position_Y</th>\n",
              "    </tr>\n",
              "  </thead>\n",
              "  <tbody>\n",
              "    <tr>\n",
              "      <th>0</th>\n",
              "      <td>568.0</td>\n",
              "      <td>1467.0</td>\n",
              "      <td>899.0</td>\n",
              "      <td>912.0</td>\n",
              "      <td>567.0</td>\n",
              "    </tr>\n",
              "    <tr>\n",
              "      <th>1</th>\n",
              "      <td>1484.0</td>\n",
              "      <td>1604.0</td>\n",
              "      <td>120.0</td>\n",
              "      <td>911.0</td>\n",
              "      <td>547.0</td>\n",
              "    </tr>\n",
              "    <tr>\n",
              "      <th>2</th>\n",
              "      <td>1645.0</td>\n",
              "      <td>1765.0</td>\n",
              "      <td>120.0</td>\n",
              "      <td>846.0</td>\n",
              "      <td>581.0</td>\n",
              "    </tr>\n",
              "    <tr>\n",
              "      <th>3</th>\n",
              "      <td>1789.0</td>\n",
              "      <td>1969.0</td>\n",
              "      <td>180.0</td>\n",
              "      <td>862.0</td>\n",
              "      <td>570.0</td>\n",
              "    </tr>\n",
              "    <tr>\n",
              "      <th>4</th>\n",
              "      <td>2995.0</td>\n",
              "      <td>3105.0</td>\n",
              "      <td>110.0</td>\n",
              "      <td>1230.0</td>\n",
              "      <td>514.0</td>\n",
              "    </tr>\n",
              "  </tbody>\n",
              "</table>\n",
              "</div>\n",
              "      <button class=\"colab-df-convert\" onclick=\"convertToInteractive('df-83a57363-a279-4ac3-aa9d-3a8147a929ed')\"\n",
              "              title=\"Convert this dataframe to an interactive table.\"\n",
              "              style=\"display:none;\">\n",
              "        \n",
              "  <svg xmlns=\"http://www.w3.org/2000/svg\" height=\"24px\"viewBox=\"0 0 24 24\"\n",
              "       width=\"24px\">\n",
              "    <path d=\"M0 0h24v24H0V0z\" fill=\"none\"/>\n",
              "    <path d=\"M18.56 5.44l.94 2.06.94-2.06 2.06-.94-2.06-.94-.94-2.06-.94 2.06-2.06.94zm-11 1L8.5 8.5l.94-2.06 2.06-.94-2.06-.94L8.5 2.5l-.94 2.06-2.06.94zm10 10l.94 2.06.94-2.06 2.06-.94-2.06-.94-.94-2.06-.94 2.06-2.06.94z\"/><path d=\"M17.41 7.96l-1.37-1.37c-.4-.4-.92-.59-1.43-.59-.52 0-1.04.2-1.43.59L10.3 9.45l-7.72 7.72c-.78.78-.78 2.05 0 2.83L4 21.41c.39.39.9.59 1.41.59.51 0 1.02-.2 1.41-.59l7.78-7.78 2.81-2.81c.8-.78.8-2.07 0-2.86zM5.41 20L4 18.59l7.72-7.72 1.47 1.35L5.41 20z\"/>\n",
              "  </svg>\n",
              "      </button>\n",
              "      \n",
              "  <style>\n",
              "    .colab-df-container {\n",
              "      display:flex;\n",
              "      flex-wrap:wrap;\n",
              "      gap: 12px;\n",
              "    }\n",
              "\n",
              "    .colab-df-convert {\n",
              "      background-color: #E8F0FE;\n",
              "      border: none;\n",
              "      border-radius: 50%;\n",
              "      cursor: pointer;\n",
              "      display: none;\n",
              "      fill: #1967D2;\n",
              "      height: 32px;\n",
              "      padding: 0 0 0 0;\n",
              "      width: 32px;\n",
              "    }\n",
              "\n",
              "    .colab-df-convert:hover {\n",
              "      background-color: #E2EBFA;\n",
              "      box-shadow: 0px 1px 2px rgba(60, 64, 67, 0.3), 0px 1px 3px 1px rgba(60, 64, 67, 0.15);\n",
              "      fill: #174EA6;\n",
              "    }\n",
              "\n",
              "    [theme=dark] .colab-df-convert {\n",
              "      background-color: #3B4455;\n",
              "      fill: #D2E3FC;\n",
              "    }\n",
              "\n",
              "    [theme=dark] .colab-df-convert:hover {\n",
              "      background-color: #434B5C;\n",
              "      box-shadow: 0px 1px 3px 1px rgba(0, 0, 0, 0.15);\n",
              "      filter: drop-shadow(0px 1px 2px rgba(0, 0, 0, 0.3));\n",
              "      fill: #FFFFFF;\n",
              "    }\n",
              "  </style>\n",
              "\n",
              "      <script>\n",
              "        const buttonEl =\n",
              "          document.querySelector('#df-83a57363-a279-4ac3-aa9d-3a8147a929ed button.colab-df-convert');\n",
              "        buttonEl.style.display =\n",
              "          google.colab.kernel.accessAllowed ? 'block' : 'none';\n",
              "\n",
              "        async function convertToInteractive(key) {\n",
              "          const element = document.querySelector('#df-83a57363-a279-4ac3-aa9d-3a8147a929ed');\n",
              "          const dataTable =\n",
              "            await google.colab.kernel.invokeFunction('convertToInteractive',\n",
              "                                                     [key], {});\n",
              "          if (!dataTable) return;\n",
              "\n",
              "          const docLinkHtml = 'Like what you see? Visit the ' +\n",
              "            '<a target=\"_blank\" href=https://colab.research.google.com/notebooks/data_table.ipynb>data table notebook</a>'\n",
              "            + ' to learn more about interactive tables.';\n",
              "          element.innerHTML = '';\n",
              "          dataTable['output_type'] = 'display_data';\n",
              "          await google.colab.output.renderOutput(dataTable, element);\n",
              "          const docLink = document.createElement('div');\n",
              "          docLink.innerHTML = docLinkHtml;\n",
              "          element.appendChild(docLink);\n",
              "        }\n",
              "      </script>\n",
              "    </div>\n",
              "  </div>\n",
              "  "
            ]
          },
          "metadata": {},
          "execution_count": 8
        }
      ]
    },
    {
      "cell_type": "code",
      "source": [
        "#REPLACING DATA\n",
        "for i in range(len(y_train1)):\n",
        "  if y_train1[i] == 'Cap Off':\n",
        "    y_train1[i] = 1\n",
        "  if y_train1[i] == 'Apply Tip':\n",
        "    y_train1[i] = 2\n",
        "  if y_train1[i] == 'Setting Units':\n",
        "    y_train1[i] = 3\n",
        "  if y_train1[i] == 'Priming':\n",
        "    y_train1[i] = 4\n",
        "  if y_train1[i] == 'Injection':\n",
        "    y_train1[i] = 5\n",
        "  if y_train1[i] == 'Remove Tip':\n",
        "    y_train1[i] = 6\n",
        "  if y_train1[i] == 'Cap On':\n",
        "    y_train1[i] = 7"
      ],
      "metadata": {
        "id": "gxjBA1rG8p5K"
      },
      "execution_count": null,
      "outputs": []
    },
    {
      "cell_type": "code",
      "source": [
        "for i in range(len(y_train2)):\n",
        "  if y_train2[i] == 'Cap Off':\n",
        "    y_train2[i] = 1\n",
        "  if y_train2[i] == 'Apply Tip':\n",
        "    y_train2[i] = 2\n",
        "  if y_train2[i] == 'Setting Units':\n",
        "    y_train2[i] = 3\n",
        "  if y_train2[i] == 'Priming':\n",
        "    y_train2[i] = 4\n",
        "  if y_train2[i] == 'Injection':\n",
        "    y_train2[i] = 5\n",
        "  if y_train2[i] == 'Remove Tip':\n",
        "    y_train2[i] = 6\n",
        "  if y_train2[i] == 'Cap On':\n",
        "    y_train2[i] = 7"
      ],
      "metadata": {
        "id": "O2J6RpcAOLu-"
      },
      "execution_count": null,
      "outputs": []
    },
    {
      "cell_type": "code",
      "source": [
        "for i in range(len(y_train3)):\n",
        "  if y_train3[i] == 'Cap Off':\n",
        "    y_train3[i] = 1\n",
        "  if y_train3[i] == 'Apply Tip':\n",
        "    y_train3[i] = 2\n",
        "  if y_train3[i] == 'Setting Units':\n",
        "    y_train3[i] = 3\n",
        "  if y_train3[i] == 'Priming':\n",
        "    y_train3[i] = 4\n",
        "  if y_train3[i] == 'Injection':\n",
        "    y_train3[i] = 5\n",
        "  if y_train3[i] == 'Remove Tip':\n",
        "    y_train3[i] = 6\n",
        "  if y_train3[i] == 'Cap On':\n",
        "    y_train3[i] = 7"
      ],
      "metadata": {
        "id": "YDyIbfGFOM8u"
      },
      "execution_count": null,
      "outputs": []
    },
    {
      "cell_type": "code",
      "source": [
        "for i in range(len(y_eval)):\n",
        "  if y_eval[i] == 'Cap Off':\n",
        "    y_eval[i] = 1\n",
        "  if y_eval[i] == 'Apply Tip':\n",
        "    y_eval[i] = 2\n",
        "  if y_eval[i] == 'Setting Units':\n",
        "    y_eval[i] = 3\n",
        "  if y_eval[i] == 'Priming':\n",
        "    y_eval[i] = 4\n",
        "  if y_eval[i] == 'Injection':\n",
        "    y_eval[i] = 5\n",
        "  if y_eval[i] == 'Remove Tip':\n",
        "    y_eval[i] = 6\n",
        "  if y_eval[i] == 'Cap On':\n",
        "    y_eval[i] = 7"
      ],
      "metadata": {
        "id": "xT-qf9dlDfCG"
      },
      "execution_count": null,
      "outputs": []
    },
    {
      "cell_type": "code",
      "source": [
        "#UNCOMPATIBILITY AGAIN\n",
        "y_train1 = y_train1.astype(int)\n",
        "dftrain1 = dftrain1.astype(float)\n",
        "y_train2 = y_train2.astype(int)\n",
        "dftrain2 = dftrain2.astype(float)\n",
        "y_train3 = y_train3.astype(int)\n",
        "dftrain3 = dftrain3.astype(float)\n",
        "y_eval = y_eval.astype(int)\n",
        "deval = deval.astype(float)"
      ],
      "metadata": {
        "id": "-tSSqFmyCVBa"
      },
      "execution_count": null,
      "outputs": []
    },
    {
      "cell_type": "code",
      "source": [
        "#INPUT FUNCTION \n",
        "def make_input_fn(data_df, label_df, num_epochs=10, shuffle=True, batch_size=32):\n",
        "  def input_function():  # inner function, this will be returned\n",
        "    ds = tf.data.Dataset.from_tensor_slices((dict(data_df), label_df))  # create tf.data.Dataset object with data and its label\n",
        "    if shuffle:\n",
        "      ds = ds.shuffle(1000)  # randomize order of data\n",
        "    ds = ds.batch(batch_size).repeat(num_epochs)  # split dataset into batches of 32 and repeat process for number of epochs\n",
        "    return ds  # return a batch of the dataset\n",
        "  return input_function  # return a function object for use"
      ],
      "metadata": {
        "id": "Zzw5rdD74nOM"
      },
      "execution_count": null,
      "outputs": []
    },
    {
      "cell_type": "code",
      "source": [
        "train_input_fn1 = make_input_fn(dftrain1, y_train1)\n",
        "train_input_fn2 = make_input_fn(dftrain2, y_train2)\n",
        "train_input_fn3 = make_input_fn(dftrain3, y_train3)\n",
        "eval_input_fn = make_input_fn(deval, y_eval, num_epochs=1, shuffle=False)"
      ],
      "metadata": {
        "id": "-1Juq6CO48j9"
      },
      "execution_count": null,
      "outputs": []
    },
    {
      "cell_type": "code",
      "source": [
        "linear_est = tf.estimator.LinearClassifier(feature_columns=feature_columns,n_classes = 8)\n"
      ],
      "metadata": {
        "colab": {
          "base_uri": "https://localhost:8080/"
        },
        "id": "79X4G7NW7vxu",
        "outputId": "f8673ba9-9209-43bb-e4df-330212d4fb55"
      },
      "execution_count": null,
      "outputs": [
        {
          "output_type": "stream",
          "name": "stdout",
          "text": [
            "INFO:tensorflow:Using default config.\n",
            "WARNING:tensorflow:Using temporary folder as model directory: /tmp/tmpq47qllge\n",
            "INFO:tensorflow:Using config: {'_model_dir': '/tmp/tmpq47qllge', '_tf_random_seed': None, '_save_summary_steps': 100, '_save_checkpoints_steps': None, '_save_checkpoints_secs': 600, '_session_config': allow_soft_placement: true\n",
            "graph_options {\n",
            "  rewrite_options {\n",
            "    meta_optimizer_iterations: ONE\n",
            "  }\n",
            "}\n",
            ", '_keep_checkpoint_max': 5, '_keep_checkpoint_every_n_hours': 10000, '_log_step_count_steps': 100, '_train_distribute': None, '_device_fn': None, '_protocol': None, '_eval_distribute': None, '_experimental_distribute': None, '_experimental_max_worker_delay_secs': None, '_session_creation_timeout_secs': 7200, '_checkpoint_save_graph_def': True, '_service': None, '_cluster_spec': ClusterSpec({}), '_task_type': 'worker', '_task_id': 0, '_global_id_in_cluster': 0, '_master': '', '_evaluation_master': '', '_is_chief': True, '_num_ps_replicas': 0, '_num_worker_replicas': 1}\n"
          ]
        }
      ]
    },
    {
      "cell_type": "code",
      "source": [
        "linear_est.train(train_input_fn1)  # train\n",
        "linear_est.train(train_input_fn2)\n",
        "linear_est.train(train_input_fn3)\n",
        "result = linear_est.evaluate(eval_input_fn)  # get model metrics/stats by testing on tetsing data\n",
        "clear_output()  # clears consoke output\n",
        "print(result['accuracy'])"
      ],
      "metadata": {
        "colab": {
          "base_uri": "https://localhost:8080/"
        },
        "id": "xGICeLxS7y8V",
        "outputId": "49bfcd79-0536-442b-efc0-a4bd7d1343eb"
      },
      "execution_count": null,
      "outputs": [
        {
          "output_type": "stream",
          "name": "stdout",
          "text": [
            "0.5\n"
          ]
        }
      ]
    },
    {
      "cell_type": "markdown",
      "source": [
        "Conclusion : Not a linear dependency"
      ],
      "metadata": {
        "id": "JtppPTE9wvQ2"
      }
    },
    {
      "cell_type": "code",
      "source": [
        "def input_fn(features, labels, training=True, batch_size=10):\n",
        "    # Convert the inputs to a Dataset.\n",
        "    dataset = tf.data.Dataset.from_tensor_slices((dict(features), labels))\n",
        "\n",
        "    # Shuffle and repeat if you are in training mode.\n",
        "    if training:\n",
        "        dataset = dataset.shuffle(1000).repeat()\n",
        "    \n",
        "    \n",
        "    return dataset.batch(batch_size)\n"
      ],
      "metadata": {
        "id": "MV8X9QMhFdog"
      },
      "execution_count": null,
      "outputs": []
    },
    {
      "cell_type": "markdown",
      "source": [
        "NEURAL NETWORK"
      ],
      "metadata": {
        "id": "qZlbNTQ2wMjQ"
      }
    },
    {
      "cell_type": "code",
      "source": [
        "classifier = tf.estimator.DNNClassifier(\n",
        "    feature_columns=feature_columns,\n",
        "    # Two hidden layers of 30 and 10 nodes respectively.\n",
        "    hidden_units=[166, 80, 50, 20, 20],\n",
        "    # The model must choose between 8 classes.\n",
        "    n_classes=8)"
      ],
      "metadata": {
        "colab": {
          "base_uri": "https://localhost:8080/"
        },
        "id": "p6LpXrwWErIG",
        "outputId": "b697c140-f88a-4eb6-d130-d595ba16160f"
      },
      "execution_count": null,
      "outputs": [
        {
          "output_type": "stream",
          "name": "stdout",
          "text": [
            "INFO:tensorflow:Using default config.\n",
            "WARNING:tensorflow:Using temporary folder as model directory: /tmp/tmp8kynq9y8\n",
            "INFO:tensorflow:Using config: {'_model_dir': '/tmp/tmp8kynq9y8', '_tf_random_seed': None, '_save_summary_steps': 100, '_save_checkpoints_steps': None, '_save_checkpoints_secs': 600, '_session_config': allow_soft_placement: true\n",
            "graph_options {\n",
            "  rewrite_options {\n",
            "    meta_optimizer_iterations: ONE\n",
            "  }\n",
            "}\n",
            ", '_keep_checkpoint_max': 5, '_keep_checkpoint_every_n_hours': 10000, '_log_step_count_steps': 100, '_train_distribute': None, '_device_fn': None, '_protocol': None, '_eval_distribute': None, '_experimental_distribute': None, '_experimental_max_worker_delay_secs': None, '_session_creation_timeout_secs': 7200, '_checkpoint_save_graph_def': True, '_service': None, '_cluster_spec': ClusterSpec({}), '_task_type': 'worker', '_task_id': 0, '_global_id_in_cluster': 0, '_master': '', '_evaluation_master': '', '_is_chief': True, '_num_ps_replicas': 0, '_num_worker_replicas': 1}\n"
          ]
        }
      ]
    },
    {
      "cell_type": "code",
      "source": [
        "classifier.train(\n",
        "    input_fn=lambda: input_fn(dftrain1, y_train1, training=True),\n",
        "    steps=10000)\n",
        "classifier.train(\n",
        "    input_fn=lambda: input_fn(dftrain2, y_train2, training=True),\n",
        "    steps=10000)\n",
        "classifier.train(\n",
        "    input_fn=lambda: input_fn(dftrain3, y_train3, training=True),\n",
        "    steps=10000)\n",
        "# We include a lambda to avoid creating an inner function previously"
      ],
      "metadata": {
        "colab": {
          "base_uri": "https://localhost:8080/"
        },
        "id": "WYayIQwLFoi6",
        "outputId": "294ae8a4-f8c2-4954-fab8-ff8d6d583ae9"
      },
      "execution_count": null,
      "outputs": [
        {
          "output_type": "stream",
          "name": "stdout",
          "text": [
            "INFO:tensorflow:Calling model_fn.\n",
            "INFO:tensorflow:Done calling model_fn.\n",
            "INFO:tensorflow:Create CheckpointSaverHook.\n",
            "INFO:tensorflow:Graph was finalized.\n",
            "INFO:tensorflow:Running local_init_op.\n",
            "INFO:tensorflow:Done running local_init_op.\n",
            "INFO:tensorflow:Calling checkpoint listeners before saving checkpoint 0...\n",
            "INFO:tensorflow:Saving checkpoints for 0 into /tmp/tmp8kynq9y8/model.ckpt.\n",
            "INFO:tensorflow:Calling checkpoint listeners after saving checkpoint 0...\n",
            "INFO:tensorflow:loss = 1333.7211, step = 0\n",
            "INFO:tensorflow:global_step/sec: 487.163\n",
            "INFO:tensorflow:loss = 27.683594, step = 100 (0.211 sec)\n",
            "INFO:tensorflow:global_step/sec: 804.59\n",
            "INFO:tensorflow:loss = 11.925019, step = 200 (0.124 sec)\n",
            "INFO:tensorflow:global_step/sec: 704.638\n",
            "INFO:tensorflow:loss = 6.9756727, step = 300 (0.141 sec)\n",
            "INFO:tensorflow:global_step/sec: 709.606\n",
            "INFO:tensorflow:loss = 6.283736, step = 400 (0.141 sec)\n",
            "INFO:tensorflow:global_step/sec: 740.98\n",
            "INFO:tensorflow:loss = 25.00609, step = 500 (0.131 sec)\n",
            "INFO:tensorflow:global_step/sec: 734.821\n",
            "INFO:tensorflow:loss = 4.9538765, step = 600 (0.136 sec)\n",
            "INFO:tensorflow:global_step/sec: 787.867\n",
            "INFO:tensorflow:loss = 5.5174026, step = 700 (0.127 sec)\n",
            "INFO:tensorflow:global_step/sec: 820.732\n",
            "INFO:tensorflow:loss = 4.09346, step = 800 (0.122 sec)\n",
            "INFO:tensorflow:global_step/sec: 695.918\n",
            "INFO:tensorflow:loss = 2.7971663, step = 900 (0.144 sec)\n",
            "INFO:tensorflow:global_step/sec: 749.225\n",
            "INFO:tensorflow:loss = 2.3110948, step = 1000 (0.133 sec)\n",
            "INFO:tensorflow:global_step/sec: 708.889\n",
            "INFO:tensorflow:loss = 4.656792, step = 1100 (0.141 sec)\n",
            "INFO:tensorflow:global_step/sec: 717.507\n",
            "INFO:tensorflow:loss = 2.6432724, step = 1200 (0.140 sec)\n",
            "INFO:tensorflow:global_step/sec: 717.305\n",
            "INFO:tensorflow:loss = 7.0040765, step = 1300 (0.139 sec)\n",
            "INFO:tensorflow:global_step/sec: 809.896\n",
            "INFO:tensorflow:loss = 5.1777954, step = 1400 (0.123 sec)\n",
            "WARNING:tensorflow:It seems that global step (tf.train.get_global_step) has not been increased. Current value (could be stable): 1481 vs previous value: 1481. You could increase the global step by passing tf.train.get_global_step() to Optimizer.apply_gradients or Optimizer.minimize.\n",
            "INFO:tensorflow:global_step/sec: 763.02\n",
            "INFO:tensorflow:loss = 5.5621014, step = 1500 (0.134 sec)\n",
            "WARNING:tensorflow:It seems that global step (tf.train.get_global_step) has not been increased. Current value (could be stable): 1502 vs previous value: 1502. You could increase the global step by passing tf.train.get_global_step() to Optimizer.apply_gradients or Optimizer.minimize.\n",
            "INFO:tensorflow:global_step/sec: 713.465\n",
            "INFO:tensorflow:loss = 1.5045954, step = 1600 (0.141 sec)\n",
            "INFO:tensorflow:global_step/sec: 704.488\n",
            "INFO:tensorflow:loss = 3.212872, step = 1700 (0.141 sec)\n",
            "INFO:tensorflow:global_step/sec: 779.68\n",
            "INFO:tensorflow:loss = 2.6039515, step = 1800 (0.134 sec)\n",
            "INFO:tensorflow:global_step/sec: 701.755\n",
            "INFO:tensorflow:loss = 4.1476274, step = 1900 (0.137 sec)\n",
            "INFO:tensorflow:global_step/sec: 757.025\n",
            "INFO:tensorflow:loss = 1.2562501, step = 2000 (0.133 sec)\n",
            "INFO:tensorflow:global_step/sec: 799.588\n",
            "INFO:tensorflow:loss = 9.606997, step = 2100 (0.124 sec)\n",
            "INFO:tensorflow:global_step/sec: 786.36\n",
            "INFO:tensorflow:loss = 1.1739981, step = 2200 (0.128 sec)\n",
            "INFO:tensorflow:global_step/sec: 758.481\n",
            "INFO:tensorflow:loss = 1.8414835, step = 2300 (0.129 sec)\n",
            "INFO:tensorflow:global_step/sec: 752.99\n",
            "INFO:tensorflow:loss = 2.0516295, step = 2400 (0.133 sec)\n",
            "INFO:tensorflow:global_step/sec: 803.213\n",
            "INFO:tensorflow:loss = 2.8623326, step = 2500 (0.124 sec)\n",
            "INFO:tensorflow:global_step/sec: 760.827\n",
            "INFO:tensorflow:loss = 4.081703, step = 2600 (0.137 sec)\n",
            "INFO:tensorflow:global_step/sec: 724.374\n",
            "INFO:tensorflow:loss = 4.4074993, step = 2700 (0.133 sec)\n",
            "INFO:tensorflow:global_step/sec: 642.842\n",
            "INFO:tensorflow:loss = 3.3915772, step = 2800 (0.159 sec)\n",
            "INFO:tensorflow:global_step/sec: 752.553\n",
            "INFO:tensorflow:loss = 6.0349946, step = 2900 (0.132 sec)\n",
            "INFO:tensorflow:global_step/sec: 785.759\n",
            "INFO:tensorflow:loss = 2.0847304, step = 3000 (0.124 sec)\n",
            "INFO:tensorflow:global_step/sec: 798.178\n",
            "INFO:tensorflow:loss = 1.9765466, step = 3100 (0.125 sec)\n",
            "INFO:tensorflow:global_step/sec: 802.759\n",
            "INFO:tensorflow:loss = 8.404082, step = 3200 (0.125 sec)\n",
            "INFO:tensorflow:global_step/sec: 831.593\n",
            "INFO:tensorflow:loss = 2.512317, step = 3300 (0.120 sec)\n",
            "INFO:tensorflow:global_step/sec: 736.926\n",
            "INFO:tensorflow:loss = 6.8158216, step = 3400 (0.140 sec)\n",
            "INFO:tensorflow:global_step/sec: 756.165\n",
            "INFO:tensorflow:loss = 5.5343866, step = 3500 (0.129 sec)\n",
            "INFO:tensorflow:global_step/sec: 740.329\n",
            "INFO:tensorflow:loss = 2.1145234, step = 3600 (0.134 sec)\n",
            "INFO:tensorflow:global_step/sec: 763.304\n",
            "INFO:tensorflow:loss = 2.514616, step = 3700 (0.135 sec)\n",
            "INFO:tensorflow:global_step/sec: 756.49\n",
            "INFO:tensorflow:loss = 2.1557763, step = 3800 (0.132 sec)\n",
            "INFO:tensorflow:global_step/sec: 782.579\n",
            "INFO:tensorflow:loss = 1.4169061, step = 3900 (0.125 sec)\n",
            "INFO:tensorflow:global_step/sec: 775.064\n",
            "INFO:tensorflow:loss = 3.7567887, step = 4000 (0.132 sec)\n",
            "INFO:tensorflow:global_step/sec: 765.25\n",
            "INFO:tensorflow:loss = 2.102978, step = 4100 (0.130 sec)\n",
            "INFO:tensorflow:global_step/sec: 741.579\n",
            "INFO:tensorflow:loss = 1.3246973, step = 4200 (0.133 sec)\n",
            "INFO:tensorflow:global_step/sec: 792.432\n",
            "INFO:tensorflow:loss = 4.391291, step = 4300 (0.129 sec)\n",
            "WARNING:tensorflow:It seems that global step (tf.train.get_global_step) has not been increased. Current value (could be stable): 4376 vs previous value: 4376. You could increase the global step by passing tf.train.get_global_step() to Optimizer.apply_gradients or Optimizer.minimize.\n",
            "WARNING:tensorflow:It seems that global step (tf.train.get_global_step) has not been increased. Current value (could be stable): 4378 vs previous value: 4378. You could increase the global step by passing tf.train.get_global_step() to Optimizer.apply_gradients or Optimizer.minimize.\n",
            "INFO:tensorflow:global_step/sec: 692.288\n",
            "INFO:tensorflow:loss = 1.410929, step = 4400 (0.145 sec)\n",
            "INFO:tensorflow:global_step/sec: 749.97\n",
            "INFO:tensorflow:loss = 1.4673069, step = 4500 (0.131 sec)\n",
            "INFO:tensorflow:global_step/sec: 755.083\n",
            "INFO:tensorflow:loss = 4.2612505, step = 4600 (0.132 sec)\n",
            "INFO:tensorflow:global_step/sec: 803.924\n",
            "INFO:tensorflow:loss = 0.9769972, step = 4700 (0.124 sec)\n",
            "INFO:tensorflow:global_step/sec: 746.926\n",
            "INFO:tensorflow:loss = 2.817093, step = 4800 (0.137 sec)\n",
            "INFO:tensorflow:global_step/sec: 785.246\n",
            "INFO:tensorflow:loss = 0.9258027, step = 4900 (0.125 sec)\n",
            "INFO:tensorflow:global_step/sec: 732.919\n",
            "INFO:tensorflow:loss = 2.3637595, step = 5000 (0.136 sec)\n",
            "INFO:tensorflow:global_step/sec: 722.584\n",
            "INFO:tensorflow:loss = 3.2991443, step = 5100 (0.141 sec)\n",
            "INFO:tensorflow:global_step/sec: 730.846\n",
            "INFO:tensorflow:loss = 1.8770307, step = 5200 (0.139 sec)\n",
            "INFO:tensorflow:global_step/sec: 688.927\n",
            "INFO:tensorflow:loss = 1.3564875, step = 5300 (0.142 sec)\n",
            "INFO:tensorflow:global_step/sec: 803.277\n",
            "INFO:tensorflow:loss = 1.4642311, step = 5400 (0.123 sec)\n",
            "INFO:tensorflow:global_step/sec: 785.588\n",
            "INFO:tensorflow:loss = 4.1041126, step = 5500 (0.131 sec)\n",
            "INFO:tensorflow:global_step/sec: 722.139\n",
            "INFO:tensorflow:loss = 1.3630062, step = 5600 (0.138 sec)\n",
            "INFO:tensorflow:global_step/sec: 680.885\n",
            "INFO:tensorflow:loss = 3.6253915, step = 5700 (0.147 sec)\n",
            "INFO:tensorflow:global_step/sec: 757.917\n",
            "INFO:tensorflow:loss = 1.8608459, step = 5800 (0.131 sec)\n",
            "INFO:tensorflow:global_step/sec: 725.762\n",
            "INFO:tensorflow:loss = 0.97150755, step = 5900 (0.138 sec)\n",
            "INFO:tensorflow:global_step/sec: 757.326\n",
            "INFO:tensorflow:loss = 2.181364, step = 6000 (0.133 sec)\n",
            "INFO:tensorflow:global_step/sec: 717.79\n",
            "INFO:tensorflow:loss = 2.5061822, step = 6100 (0.138 sec)\n",
            "INFO:tensorflow:global_step/sec: 737.33\n",
            "INFO:tensorflow:loss = 1.9483744, step = 6200 (0.135 sec)\n",
            "INFO:tensorflow:global_step/sec: 766.048\n",
            "INFO:tensorflow:loss = 3.4901066, step = 6300 (0.131 sec)\n",
            "INFO:tensorflow:global_step/sec: 769.7\n",
            "INFO:tensorflow:loss = 1.414598, step = 6400 (0.127 sec)\n",
            "INFO:tensorflow:global_step/sec: 646.231\n",
            "INFO:tensorflow:loss = 1.6705694, step = 6500 (0.158 sec)\n",
            "INFO:tensorflow:global_step/sec: 729.906\n",
            "INFO:tensorflow:loss = 1.1284087, step = 6600 (0.135 sec)\n",
            "INFO:tensorflow:global_step/sec: 711.016\n",
            "INFO:tensorflow:loss = 4.186681, step = 6700 (0.140 sec)\n",
            "INFO:tensorflow:global_step/sec: 730.254\n",
            "INFO:tensorflow:loss = 2.7357788, step = 6800 (0.137 sec)\n",
            "INFO:tensorflow:global_step/sec: 786.54\n",
            "INFO:tensorflow:loss = 4.6853333, step = 6900 (0.131 sec)\n",
            "INFO:tensorflow:global_step/sec: 755.298\n",
            "INFO:tensorflow:loss = 1.1584946, step = 7000 (0.132 sec)\n",
            "INFO:tensorflow:global_step/sec: 734.409\n",
            "INFO:tensorflow:loss = 4.939887, step = 7100 (0.135 sec)\n",
            "INFO:tensorflow:global_step/sec: 717.566\n",
            "INFO:tensorflow:loss = 2.405613, step = 7200 (0.140 sec)\n",
            "INFO:tensorflow:global_step/sec: 802.533\n",
            "INFO:tensorflow:loss = 0.6788065, step = 7300 (0.125 sec)\n",
            "INFO:tensorflow:global_step/sec: 677.144\n",
            "INFO:tensorflow:loss = 1.4338086, step = 7400 (0.148 sec)\n",
            "INFO:tensorflow:global_step/sec: 773.466\n",
            "INFO:tensorflow:loss = 1.1349723, step = 7500 (0.125 sec)\n",
            "INFO:tensorflow:global_step/sec: 755.909\n",
            "INFO:tensorflow:loss = 2.4258409, step = 7600 (0.136 sec)\n",
            "INFO:tensorflow:global_step/sec: 790.377\n",
            "INFO:tensorflow:loss = 1.2226427, step = 7700 (0.122 sec)\n",
            "INFO:tensorflow:global_step/sec: 769.043\n",
            "INFO:tensorflow:loss = 1.2196634, step = 7800 (0.135 sec)\n",
            "INFO:tensorflow:global_step/sec: 712.256\n",
            "INFO:tensorflow:loss = 2.3700671, step = 7900 (0.139 sec)\n",
            "INFO:tensorflow:global_step/sec: 730.668\n",
            "INFO:tensorflow:loss = 1.290136, step = 8000 (0.134 sec)\n",
            "INFO:tensorflow:global_step/sec: 727.406\n",
            "INFO:tensorflow:loss = 2.9689925, step = 8100 (0.141 sec)\n",
            "INFO:tensorflow:global_step/sec: 755.577\n",
            "INFO:tensorflow:loss = 1.14167, step = 8200 (0.133 sec)\n",
            "INFO:tensorflow:global_step/sec: 755.619\n",
            "INFO:tensorflow:loss = 1.2079365, step = 8300 (0.130 sec)\n",
            "INFO:tensorflow:global_step/sec: 815.925\n",
            "INFO:tensorflow:loss = 1.0166012, step = 8400 (0.125 sec)\n",
            "INFO:tensorflow:global_step/sec: 764.442\n",
            "INFO:tensorflow:loss = 0.9552881, step = 8500 (0.131 sec)\n",
            "INFO:tensorflow:global_step/sec: 768.668\n",
            "INFO:tensorflow:loss = 1.0205498, step = 8600 (0.130 sec)\n",
            "INFO:tensorflow:global_step/sec: 666.854\n",
            "INFO:tensorflow:loss = 0.89305544, step = 8700 (0.146 sec)\n",
            "INFO:tensorflow:global_step/sec: 766.907\n",
            "INFO:tensorflow:loss = 1.8036602, step = 8800 (0.133 sec)\n",
            "INFO:tensorflow:global_step/sec: 790.76\n",
            "INFO:tensorflow:loss = 0.8751154, step = 8900 (0.127 sec)\n",
            "INFO:tensorflow:global_step/sec: 794.174\n",
            "INFO:tensorflow:loss = 1.0391519, step = 9000 (0.124 sec)\n",
            "INFO:tensorflow:global_step/sec: 716.088\n",
            "INFO:tensorflow:loss = 2.4102175, step = 9100 (0.139 sec)\n",
            "INFO:tensorflow:global_step/sec: 823.857\n",
            "INFO:tensorflow:loss = 1.8323189, step = 9200 (0.121 sec)\n",
            "INFO:tensorflow:global_step/sec: 753.651\n",
            "INFO:tensorflow:loss = 1.8280118, step = 9300 (0.134 sec)\n",
            "INFO:tensorflow:global_step/sec: 781.805\n",
            "INFO:tensorflow:loss = 2.4748302, step = 9400 (0.128 sec)\n",
            "INFO:tensorflow:global_step/sec: 734.862\n",
            "INFO:tensorflow:loss = 1.3395402, step = 9500 (0.138 sec)\n",
            "INFO:tensorflow:global_step/sec: 762.627\n",
            "INFO:tensorflow:loss = 0.6702104, step = 9600 (0.130 sec)\n",
            "INFO:tensorflow:global_step/sec: 714.218\n",
            "INFO:tensorflow:loss = 4.0253806, step = 9700 (0.143 sec)\n",
            "INFO:tensorflow:global_step/sec: 688.762\n",
            "INFO:tensorflow:loss = 3.0325997, step = 9800 (0.144 sec)\n",
            "INFO:tensorflow:global_step/sec: 782.908\n",
            "INFO:tensorflow:loss = 1.1291282, step = 9900 (0.127 sec)\n",
            "INFO:tensorflow:Calling checkpoint listeners before saving checkpoint 10000...\n",
            "INFO:tensorflow:Saving checkpoints for 10000 into /tmp/tmp8kynq9y8/model.ckpt.\n",
            "INFO:tensorflow:Calling checkpoint listeners after saving checkpoint 10000...\n",
            "INFO:tensorflow:Loss for final step: 1.2543647.\n",
            "INFO:tensorflow:Calling model_fn.\n",
            "INFO:tensorflow:Done calling model_fn.\n",
            "INFO:tensorflow:Create CheckpointSaverHook.\n",
            "INFO:tensorflow:Graph was finalized.\n",
            "INFO:tensorflow:Restoring parameters from /tmp/tmp8kynq9y8/model.ckpt-10000\n",
            "INFO:tensorflow:Running local_init_op.\n",
            "INFO:tensorflow:Done running local_init_op.\n",
            "INFO:tensorflow:Calling checkpoint listeners before saving checkpoint 10000...\n",
            "INFO:tensorflow:Saving checkpoints for 10000 into /tmp/tmp8kynq9y8/model.ckpt.\n",
            "INFO:tensorflow:Calling checkpoint listeners after saving checkpoint 10000...\n",
            "INFO:tensorflow:loss = 1.273278, step = 10000\n",
            "INFO:tensorflow:global_step/sec: 477.137\n",
            "INFO:tensorflow:loss = 1.5508128, step = 10100 (0.216 sec)\n",
            "INFO:tensorflow:global_step/sec: 802.28\n",
            "INFO:tensorflow:loss = 0.8867486, step = 10200 (0.120 sec)\n",
            "INFO:tensorflow:global_step/sec: 802.26\n",
            "INFO:tensorflow:loss = 1.5160042, step = 10300 (0.125 sec)\n",
            "INFO:tensorflow:global_step/sec: 786.694\n",
            "INFO:tensorflow:loss = 1.5837929, step = 10400 (0.131 sec)\n",
            "INFO:tensorflow:global_step/sec: 781.027\n",
            "INFO:tensorflow:loss = 2.5652585, step = 10500 (0.125 sec)\n",
            "INFO:tensorflow:global_step/sec: 723.158\n",
            "INFO:tensorflow:loss = 0.9975606, step = 10600 (0.143 sec)\n",
            "INFO:tensorflow:global_step/sec: 739.749\n",
            "INFO:tensorflow:loss = 1.8139184, step = 10700 (0.134 sec)\n",
            "INFO:tensorflow:global_step/sec: 758.639\n",
            "INFO:tensorflow:loss = 1.2201601, step = 10800 (0.131 sec)\n",
            "INFO:tensorflow:global_step/sec: 742.365\n",
            "INFO:tensorflow:loss = 1.1598018, step = 10900 (0.137 sec)\n",
            "INFO:tensorflow:global_step/sec: 690.001\n",
            "INFO:tensorflow:loss = 2.3976762, step = 11000 (0.140 sec)\n",
            "INFO:tensorflow:global_step/sec: 704.299\n",
            "INFO:tensorflow:loss = 1.0944285, step = 11100 (0.144 sec)\n",
            "INFO:tensorflow:global_step/sec: 837.051\n",
            "INFO:tensorflow:loss = 1.6566741, step = 11200 (0.120 sec)\n",
            "INFO:tensorflow:global_step/sec: 826.697\n",
            "INFO:tensorflow:loss = 5.295266, step = 11300 (0.121 sec)\n",
            "INFO:tensorflow:global_step/sec: 712.36\n",
            "INFO:tensorflow:loss = 1.2171617, step = 11400 (0.141 sec)\n",
            "INFO:tensorflow:global_step/sec: 809.772\n",
            "INFO:tensorflow:loss = 1.1612867, step = 11500 (0.124 sec)\n",
            "INFO:tensorflow:global_step/sec: 759.235\n",
            "INFO:tensorflow:loss = 1.870299, step = 11600 (0.132 sec)\n",
            "INFO:tensorflow:global_step/sec: 795.261\n",
            "INFO:tensorflow:loss = 1.4424915, step = 11700 (0.127 sec)\n",
            "INFO:tensorflow:global_step/sec: 809.066\n",
            "INFO:tensorflow:loss = 1.633539, step = 11800 (0.124 sec)\n",
            "INFO:tensorflow:global_step/sec: 753.714\n",
            "INFO:tensorflow:loss = 1.2251575, step = 11900 (0.128 sec)\n",
            "INFO:tensorflow:global_step/sec: 819.088\n",
            "INFO:tensorflow:loss = 1.1099347, step = 12000 (0.122 sec)\n",
            "INFO:tensorflow:global_step/sec: 790.187\n",
            "INFO:tensorflow:loss = 1.2878351, step = 12100 (0.130 sec)\n",
            "INFO:tensorflow:global_step/sec: 709.048\n",
            "INFO:tensorflow:loss = 1.5411748, step = 12200 (0.141 sec)\n",
            "INFO:tensorflow:global_step/sec: 779.684\n",
            "INFO:tensorflow:loss = 1.6732944, step = 12300 (0.128 sec)\n",
            "INFO:tensorflow:global_step/sec: 693.323\n",
            "INFO:tensorflow:loss = 0.7419813, step = 12400 (0.144 sec)\n",
            "INFO:tensorflow:global_step/sec: 779.413\n",
            "INFO:tensorflow:loss = 1.3097066, step = 12500 (0.128 sec)\n",
            "INFO:tensorflow:global_step/sec: 792.675\n",
            "INFO:tensorflow:loss = 1.3171952, step = 12600 (0.127 sec)\n",
            "INFO:tensorflow:global_step/sec: 753.037\n",
            "INFO:tensorflow:loss = 1.4484159, step = 12700 (0.129 sec)\n",
            "INFO:tensorflow:global_step/sec: 768.386\n",
            "INFO:tensorflow:loss = 2.563274, step = 12800 (0.133 sec)\n",
            "INFO:tensorflow:global_step/sec: 762.421\n",
            "INFO:tensorflow:loss = 1.00751, step = 12900 (0.132 sec)\n",
            "INFO:tensorflow:global_step/sec: 770.597\n",
            "INFO:tensorflow:loss = 1.279823, step = 13000 (0.130 sec)\n",
            "INFO:tensorflow:global_step/sec: 781.643\n",
            "INFO:tensorflow:loss = 1.1343015, step = 13100 (0.128 sec)\n",
            "INFO:tensorflow:global_step/sec: 781.154\n",
            "INFO:tensorflow:loss = 0.7649932, step = 13200 (0.128 sec)\n",
            "INFO:tensorflow:global_step/sec: 775.743\n",
            "INFO:tensorflow:loss = 0.86479616, step = 13300 (0.129 sec)\n",
            "INFO:tensorflow:global_step/sec: 770.646\n",
            "INFO:tensorflow:loss = 0.8815161, step = 13400 (0.130 sec)\n",
            "INFO:tensorflow:global_step/sec: 775.799\n",
            "INFO:tensorflow:loss = 3.2679603, step = 13500 (0.129 sec)\n",
            "INFO:tensorflow:global_step/sec: 779.102\n",
            "INFO:tensorflow:loss = 2.9507499, step = 13600 (0.129 sec)\n",
            "INFO:tensorflow:global_step/sec: 695.629\n",
            "INFO:tensorflow:loss = 0.8861933, step = 13700 (0.141 sec)\n",
            "INFO:tensorflow:global_step/sec: 823.488\n",
            "INFO:tensorflow:loss = 1.6578413, step = 13800 (0.124 sec)\n",
            "INFO:tensorflow:global_step/sec: 696.816\n",
            "INFO:tensorflow:loss = 1.0958865, step = 13900 (0.142 sec)\n",
            "INFO:tensorflow:global_step/sec: 792.004\n",
            "INFO:tensorflow:loss = 1.1922139, step = 14000 (0.123 sec)\n",
            "INFO:tensorflow:global_step/sec: 794.425\n",
            "INFO:tensorflow:loss = 1.3073299, step = 14100 (0.129 sec)\n",
            "INFO:tensorflow:global_step/sec: 826.303\n",
            "INFO:tensorflow:loss = 0.92310476, step = 14200 (0.118 sec)\n",
            "INFO:tensorflow:global_step/sec: 811.748\n",
            "INFO:tensorflow:loss = 1.4350773, step = 14300 (0.126 sec)\n",
            "INFO:tensorflow:global_step/sec: 740.44\n",
            "INFO:tensorflow:loss = 1.2837746, step = 14400 (0.135 sec)\n",
            "INFO:tensorflow:global_step/sec: 717.598\n",
            "INFO:tensorflow:loss = 0.8024231, step = 14500 (0.139 sec)\n",
            "INFO:tensorflow:global_step/sec: 755.088\n",
            "INFO:tensorflow:loss = 1.1320499, step = 14600 (0.133 sec)\n",
            "INFO:tensorflow:global_step/sec: 731.903\n",
            "INFO:tensorflow:loss = 0.74994653, step = 14700 (0.133 sec)\n",
            "INFO:tensorflow:global_step/sec: 805.05\n",
            "INFO:tensorflow:loss = 1.1083363, step = 14800 (0.128 sec)\n",
            "INFO:tensorflow:global_step/sec: 801.04\n",
            "INFO:tensorflow:loss = 1.3763906, step = 14900 (0.121 sec)\n",
            "INFO:tensorflow:global_step/sec: 734.086\n",
            "INFO:tensorflow:loss = 0.79720515, step = 15000 (0.136 sec)\n",
            "INFO:tensorflow:global_step/sec: 780.394\n",
            "INFO:tensorflow:loss = 1.3417217, step = 15100 (0.132 sec)\n",
            "WARNING:tensorflow:It seems that global step (tf.train.get_global_step) has not been increased. Current value (could be stable): 15141 vs previous value: 15141. You could increase the global step by passing tf.train.get_global_step() to Optimizer.apply_gradients or Optimizer.minimize.\n",
            "INFO:tensorflow:global_step/sec: 782.766\n",
            "INFO:tensorflow:loss = 1.2023978, step = 15200 (0.128 sec)\n",
            "INFO:tensorflow:global_step/sec: 741.744\n",
            "INFO:tensorflow:loss = 0.79927146, step = 15300 (0.132 sec)\n",
            "INFO:tensorflow:global_step/sec: 815.519\n",
            "INFO:tensorflow:loss = 1.0378122, step = 15400 (0.122 sec)\n",
            "INFO:tensorflow:global_step/sec: 775.653\n",
            "INFO:tensorflow:loss = 1.0741061, step = 15500 (0.132 sec)\n",
            "INFO:tensorflow:global_step/sec: 805.731\n",
            "INFO:tensorflow:loss = 1.4280715, step = 15600 (0.125 sec)\n",
            "INFO:tensorflow:global_step/sec: 780.235\n",
            "INFO:tensorflow:loss = 0.94546384, step = 15700 (0.127 sec)\n",
            "INFO:tensorflow:global_step/sec: 816.176\n",
            "INFO:tensorflow:loss = 0.97932947, step = 15800 (0.123 sec)\n",
            "INFO:tensorflow:global_step/sec: 759.325\n",
            "INFO:tensorflow:loss = 1.1050652, step = 15900 (0.129 sec)\n",
            "INFO:tensorflow:global_step/sec: 734.944\n",
            "INFO:tensorflow:loss = 3.521695, step = 16000 (0.138 sec)\n",
            "INFO:tensorflow:global_step/sec: 697.726\n",
            "INFO:tensorflow:loss = 0.59870946, step = 16100 (0.146 sec)\n",
            "INFO:tensorflow:global_step/sec: 762.823\n",
            "INFO:tensorflow:loss = 1.3236915, step = 16200 (0.134 sec)\n",
            "INFO:tensorflow:global_step/sec: 739.001\n",
            "INFO:tensorflow:loss = 1.341594, step = 16300 (0.132 sec)\n",
            "INFO:tensorflow:global_step/sec: 787.756\n",
            "INFO:tensorflow:loss = 1.5487885, step = 16400 (0.126 sec)\n",
            "INFO:tensorflow:global_step/sec: 724.201\n",
            "INFO:tensorflow:loss = 0.90956306, step = 16500 (0.139 sec)\n",
            "INFO:tensorflow:global_step/sec: 775.246\n",
            "INFO:tensorflow:loss = 1.553649, step = 16600 (0.128 sec)\n",
            "INFO:tensorflow:global_step/sec: 784.22\n",
            "INFO:tensorflow:loss = 2.4056916, step = 16700 (0.125 sec)\n",
            "INFO:tensorflow:global_step/sec: 799.037\n",
            "INFO:tensorflow:loss = 1.1759565, step = 16800 (0.125 sec)\n",
            "INFO:tensorflow:global_step/sec: 727.235\n",
            "INFO:tensorflow:loss = 0.66833556, step = 16900 (0.141 sec)\n",
            "INFO:tensorflow:global_step/sec: 782.911\n",
            "INFO:tensorflow:loss = 1.1923391, step = 17000 (0.128 sec)\n",
            "INFO:tensorflow:global_step/sec: 752.648\n",
            "INFO:tensorflow:loss = 1.2283684, step = 17100 (0.129 sec)\n",
            "INFO:tensorflow:global_step/sec: 799.07\n",
            "INFO:tensorflow:loss = 1.1413457, step = 17200 (0.129 sec)\n",
            "INFO:tensorflow:global_step/sec: 813.624\n",
            "INFO:tensorflow:loss = 1.0481503, step = 17300 (0.123 sec)\n",
            "INFO:tensorflow:global_step/sec: 754.288\n",
            "INFO:tensorflow:loss = 1.113189, step = 17400 (0.132 sec)\n",
            "INFO:tensorflow:global_step/sec: 794.772\n",
            "INFO:tensorflow:loss = 0.660625, step = 17500 (0.126 sec)\n",
            "INFO:tensorflow:global_step/sec: 773.678\n",
            "INFO:tensorflow:loss = 1.7371576, step = 17600 (0.126 sec)\n",
            "INFO:tensorflow:global_step/sec: 736.643\n",
            "INFO:tensorflow:loss = 1.1621926, step = 17700 (0.135 sec)\n",
            "INFO:tensorflow:global_step/sec: 810.757\n",
            "INFO:tensorflow:loss = 0.8119319, step = 17800 (0.123 sec)\n",
            "INFO:tensorflow:global_step/sec: 826.337\n",
            "INFO:tensorflow:loss = 0.88138616, step = 17900 (0.121 sec)\n",
            "INFO:tensorflow:global_step/sec: 780.141\n",
            "INFO:tensorflow:loss = 0.76577675, step = 18000 (0.130 sec)\n",
            "INFO:tensorflow:global_step/sec: 685.289\n",
            "INFO:tensorflow:loss = 0.78713405, step = 18100 (0.146 sec)\n",
            "INFO:tensorflow:global_step/sec: 814.102\n",
            "INFO:tensorflow:loss = 1.0857663, step = 18200 (0.123 sec)\n",
            "INFO:tensorflow:global_step/sec: 839.319\n",
            "INFO:tensorflow:loss = 0.6155144, step = 18300 (0.116 sec)\n",
            "INFO:tensorflow:global_step/sec: 805.293\n",
            "INFO:tensorflow:loss = 0.74719036, step = 18400 (0.124 sec)\n",
            "INFO:tensorflow:global_step/sec: 701.72\n",
            "INFO:tensorflow:loss = 0.72586, step = 18500 (0.145 sec)\n",
            "INFO:tensorflow:global_step/sec: 823.907\n",
            "INFO:tensorflow:loss = 0.69511265, step = 18600 (0.127 sec)\n",
            "INFO:tensorflow:global_step/sec: 752.443\n",
            "INFO:tensorflow:loss = 1.2001798, step = 18700 (0.130 sec)\n",
            "INFO:tensorflow:global_step/sec: 762.3\n",
            "INFO:tensorflow:loss = 1.0424004, step = 18800 (0.126 sec)\n",
            "INFO:tensorflow:global_step/sec: 829.333\n",
            "INFO:tensorflow:loss = 0.93055516, step = 18900 (0.121 sec)\n",
            "INFO:tensorflow:global_step/sec: 786.284\n",
            "INFO:tensorflow:loss = 1.2342247, step = 19000 (0.127 sec)\n",
            "INFO:tensorflow:global_step/sec: 738.659\n",
            "INFO:tensorflow:loss = 0.9529856, step = 19100 (0.140 sec)\n",
            "INFO:tensorflow:global_step/sec: 784.004\n",
            "INFO:tensorflow:loss = 1.0726316, step = 19200 (0.128 sec)\n",
            "INFO:tensorflow:global_step/sec: 755.622\n",
            "INFO:tensorflow:loss = 1.3736018, step = 19300 (0.131 sec)\n",
            "INFO:tensorflow:global_step/sec: 794.868\n",
            "INFO:tensorflow:loss = 1.2033613, step = 19400 (0.130 sec)\n",
            "INFO:tensorflow:global_step/sec: 716.238\n",
            "INFO:tensorflow:loss = 1.0358825, step = 19500 (0.136 sec)\n",
            "INFO:tensorflow:global_step/sec: 790.61\n",
            "INFO:tensorflow:loss = 0.9234947, step = 19600 (0.127 sec)\n",
            "INFO:tensorflow:global_step/sec: 799.347\n",
            "INFO:tensorflow:loss = 1.2043908, step = 19700 (0.121 sec)\n",
            "INFO:tensorflow:global_step/sec: 704.075\n",
            "INFO:tensorflow:loss = 0.9832737, step = 19800 (0.146 sec)\n",
            "INFO:tensorflow:global_step/sec: 765.739\n",
            "INFO:tensorflow:loss = 1.1528032, step = 19900 (0.127 sec)\n",
            "INFO:tensorflow:Calling checkpoint listeners before saving checkpoint 20000...\n",
            "INFO:tensorflow:Saving checkpoints for 20000 into /tmp/tmp8kynq9y8/model.ckpt.\n",
            "INFO:tensorflow:Calling checkpoint listeners after saving checkpoint 20000...\n",
            "INFO:tensorflow:Loss for final step: 0.992589.\n",
            "INFO:tensorflow:Calling model_fn.\n",
            "INFO:tensorflow:Done calling model_fn.\n",
            "INFO:tensorflow:Create CheckpointSaverHook.\n",
            "INFO:tensorflow:Graph was finalized.\n",
            "INFO:tensorflow:Restoring parameters from /tmp/tmp8kynq9y8/model.ckpt-20000\n",
            "INFO:tensorflow:Running local_init_op.\n",
            "INFO:tensorflow:Done running local_init_op.\n",
            "INFO:tensorflow:Calling checkpoint listeners before saving checkpoint 20000...\n",
            "INFO:tensorflow:Saving checkpoints for 20000 into /tmp/tmp8kynq9y8/model.ckpt.\n",
            "INFO:tensorflow:Calling checkpoint listeners after saving checkpoint 20000...\n",
            "INFO:tensorflow:loss = 2.3844407, step = 20000\n",
            "INFO:tensorflow:global_step/sec: 523.342\n",
            "INFO:tensorflow:loss = 1.8793472, step = 20100 (0.196 sec)\n",
            "INFO:tensorflow:global_step/sec: 772.092\n",
            "INFO:tensorflow:loss = 1.11737, step = 20200 (0.128 sec)\n",
            "INFO:tensorflow:global_step/sec: 775.785\n",
            "INFO:tensorflow:loss = 0.6483389, step = 20300 (0.132 sec)\n",
            "INFO:tensorflow:global_step/sec: 811.304\n",
            "INFO:tensorflow:loss = 1.147763, step = 20400 (0.119 sec)\n",
            "INFO:tensorflow:global_step/sec: 818.645\n",
            "INFO:tensorflow:loss = 0.5040457, step = 20500 (0.122 sec)\n",
            "INFO:tensorflow:global_step/sec: 765.317\n",
            "INFO:tensorflow:loss = 0.6558287, step = 20600 (0.131 sec)\n",
            "INFO:tensorflow:global_step/sec: 742.614\n",
            "INFO:tensorflow:loss = 1.3798087, step = 20700 (0.135 sec)\n",
            "INFO:tensorflow:global_step/sec: 717.693\n",
            "INFO:tensorflow:loss = 0.8249828, step = 20800 (0.139 sec)\n",
            "INFO:tensorflow:global_step/sec: 767.743\n",
            "INFO:tensorflow:loss = 0.86018336, step = 20900 (0.134 sec)\n",
            "INFO:tensorflow:global_step/sec: 732.176\n",
            "INFO:tensorflow:loss = 0.9349531, step = 21000 (0.136 sec)\n",
            "INFO:tensorflow:global_step/sec: 788.302\n",
            "INFO:tensorflow:loss = 1.3533648, step = 21100 (0.128 sec)\n",
            "INFO:tensorflow:global_step/sec: 790.626\n",
            "INFO:tensorflow:loss = 0.7509657, step = 21200 (0.123 sec)\n",
            "INFO:tensorflow:global_step/sec: 675.924\n",
            "INFO:tensorflow:loss = 2.3946948, step = 21300 (0.147 sec)\n",
            "INFO:tensorflow:global_step/sec: 815.909\n",
            "INFO:tensorflow:loss = 0.7922411, step = 21400 (0.122 sec)\n",
            "INFO:tensorflow:global_step/sec: 790.102\n",
            "INFO:tensorflow:loss = 1.358032, step = 21500 (0.127 sec)\n",
            "INFO:tensorflow:global_step/sec: 712.858\n",
            "INFO:tensorflow:loss = 0.88237506, step = 21600 (0.145 sec)\n",
            "INFO:tensorflow:global_step/sec: 684.75\n",
            "INFO:tensorflow:loss = 0.740198, step = 21700 (0.146 sec)\n",
            "INFO:tensorflow:global_step/sec: 709.081\n",
            "INFO:tensorflow:loss = 0.8194324, step = 21800 (0.140 sec)\n",
            "INFO:tensorflow:global_step/sec: 779.615\n",
            "INFO:tensorflow:loss = 0.69712836, step = 21900 (0.125 sec)\n",
            "INFO:tensorflow:global_step/sec: 825.421\n",
            "INFO:tensorflow:loss = 0.3395838, step = 22000 (0.121 sec)\n",
            "INFO:tensorflow:global_step/sec: 775.979\n",
            "INFO:tensorflow:loss = 0.6889939, step = 22100 (0.128 sec)\n",
            "INFO:tensorflow:global_step/sec: 767.662\n",
            "INFO:tensorflow:loss = 0.8402375, step = 22200 (0.130 sec)\n",
            "INFO:tensorflow:global_step/sec: 751.684\n",
            "INFO:tensorflow:loss = 0.84103507, step = 22300 (0.137 sec)\n",
            "INFO:tensorflow:global_step/sec: 738.566\n",
            "INFO:tensorflow:loss = 0.71346146, step = 22400 (0.135 sec)\n",
            "INFO:tensorflow:global_step/sec: 779.632\n",
            "INFO:tensorflow:loss = 1.0474216, step = 22500 (0.129 sec)\n",
            "INFO:tensorflow:global_step/sec: 648.622\n",
            "INFO:tensorflow:loss = 0.5630976, step = 22600 (0.152 sec)\n",
            "INFO:tensorflow:global_step/sec: 805.759\n",
            "INFO:tensorflow:loss = 0.91382045, step = 22700 (0.124 sec)\n",
            "INFO:tensorflow:global_step/sec: 713.152\n",
            "INFO:tensorflow:loss = 1.2072141, step = 22800 (0.140 sec)\n",
            "INFO:tensorflow:global_step/sec: 759.22\n",
            "INFO:tensorflow:loss = 0.7684551, step = 22900 (0.133 sec)\n",
            "INFO:tensorflow:global_step/sec: 698.992\n",
            "INFO:tensorflow:loss = 0.48005533, step = 23000 (0.142 sec)\n",
            "INFO:tensorflow:global_step/sec: 666.476\n",
            "INFO:tensorflow:loss = 0.7541216, step = 23100 (0.150 sec)\n",
            "INFO:tensorflow:global_step/sec: 768.663\n",
            "INFO:tensorflow:loss = 1.299851, step = 23200 (0.130 sec)\n",
            "INFO:tensorflow:global_step/sec: 730.183\n",
            "INFO:tensorflow:loss = 1.2711953, step = 23300 (0.135 sec)\n",
            "INFO:tensorflow:global_step/sec: 753.633\n",
            "INFO:tensorflow:loss = 0.8890872, step = 23400 (0.134 sec)\n",
            "INFO:tensorflow:global_step/sec: 773.041\n",
            "INFO:tensorflow:loss = 1.247223, step = 23500 (0.129 sec)\n",
            "INFO:tensorflow:global_step/sec: 681.222\n",
            "INFO:tensorflow:loss = 0.8255998, step = 23600 (0.144 sec)\n",
            "INFO:tensorflow:global_step/sec: 709.317\n",
            "INFO:tensorflow:loss = 0.47114658, step = 23700 (0.141 sec)\n",
            "INFO:tensorflow:global_step/sec: 751.715\n",
            "INFO:tensorflow:loss = 1.1593287, step = 23800 (0.137 sec)\n",
            "INFO:tensorflow:global_step/sec: 740.386\n",
            "INFO:tensorflow:loss = 1.2996042, step = 23900 (0.135 sec)\n",
            "INFO:tensorflow:global_step/sec: 768.393\n",
            "INFO:tensorflow:loss = 0.9401318, step = 24000 (0.129 sec)\n",
            "INFO:tensorflow:global_step/sec: 650.47\n",
            "INFO:tensorflow:loss = 0.54087895, step = 24100 (0.155 sec)\n",
            "INFO:tensorflow:global_step/sec: 737.104\n",
            "INFO:tensorflow:loss = 2.9067817, step = 24200 (0.136 sec)\n",
            "INFO:tensorflow:global_step/sec: 662.969\n",
            "INFO:tensorflow:loss = 0.7871931, step = 24300 (0.151 sec)\n",
            "INFO:tensorflow:global_step/sec: 751.325\n",
            "INFO:tensorflow:loss = 0.8894292, step = 24400 (0.132 sec)\n",
            "INFO:tensorflow:global_step/sec: 770.696\n",
            "INFO:tensorflow:loss = 0.80835325, step = 24500 (0.127 sec)\n",
            "INFO:tensorflow:global_step/sec: 742.185\n",
            "INFO:tensorflow:loss = 0.83751315, step = 24600 (0.138 sec)\n",
            "INFO:tensorflow:global_step/sec: 773.001\n",
            "INFO:tensorflow:loss = 0.68087447, step = 24700 (0.130 sec)\n",
            "INFO:tensorflow:global_step/sec: 732.98\n",
            "INFO:tensorflow:loss = 0.989298, step = 24800 (0.136 sec)\n",
            "INFO:tensorflow:global_step/sec: 684.167\n",
            "INFO:tensorflow:loss = 1.1080806, step = 24900 (0.145 sec)\n",
            "INFO:tensorflow:global_step/sec: 763.467\n",
            "INFO:tensorflow:loss = 0.7683431, step = 25000 (0.133 sec)\n",
            "INFO:tensorflow:global_step/sec: 712.297\n",
            "INFO:tensorflow:loss = 0.83539736, step = 25100 (0.140 sec)\n",
            "INFO:tensorflow:global_step/sec: 764.643\n",
            "INFO:tensorflow:loss = 1.0218009, step = 25200 (0.129 sec)\n",
            "INFO:tensorflow:global_step/sec: 805.126\n",
            "INFO:tensorflow:loss = 0.9657446, step = 25300 (0.125 sec)\n",
            "INFO:tensorflow:global_step/sec: 705.729\n",
            "INFO:tensorflow:loss = 2.2246199, step = 25400 (0.144 sec)\n",
            "INFO:tensorflow:global_step/sec: 748.452\n",
            "INFO:tensorflow:loss = 0.92862624, step = 25500 (0.130 sec)\n",
            "INFO:tensorflow:global_step/sec: 674.724\n",
            "INFO:tensorflow:loss = 0.90634996, step = 25600 (0.150 sec)\n",
            "INFO:tensorflow:global_step/sec: 724.092\n",
            "INFO:tensorflow:loss = 0.635523, step = 25700 (0.140 sec)\n",
            "INFO:tensorflow:global_step/sec: 756.619\n",
            "INFO:tensorflow:loss = 1.8300371, step = 25800 (0.130 sec)\n",
            "INFO:tensorflow:global_step/sec: 765.151\n",
            "INFO:tensorflow:loss = 0.6002916, step = 25900 (0.132 sec)\n",
            "INFO:tensorflow:global_step/sec: 752.186\n",
            "INFO:tensorflow:loss = 0.6815527, step = 26000 (0.132 sec)\n",
            "INFO:tensorflow:global_step/sec: 782.236\n",
            "INFO:tensorflow:loss = 0.63845336, step = 26100 (0.124 sec)\n",
            "INFO:tensorflow:global_step/sec: 728.467\n",
            "INFO:tensorflow:loss = 0.83670986, step = 26200 (0.141 sec)\n",
            "INFO:tensorflow:global_step/sec: 681.323\n",
            "INFO:tensorflow:loss = 0.6372136, step = 26300 (0.147 sec)\n",
            "INFO:tensorflow:global_step/sec: 709.885\n",
            "INFO:tensorflow:loss = 0.43183666, step = 26400 (0.141 sec)\n",
            "INFO:tensorflow:global_step/sec: 789.024\n",
            "INFO:tensorflow:loss = 0.5905223, step = 26500 (0.123 sec)\n",
            "INFO:tensorflow:global_step/sec: 740.835\n",
            "INFO:tensorflow:loss = 0.9661256, step = 26600 (0.138 sec)\n",
            "INFO:tensorflow:global_step/sec: 752.605\n",
            "INFO:tensorflow:loss = 0.52378005, step = 26700 (0.129 sec)\n",
            "INFO:tensorflow:global_step/sec: 735.197\n",
            "INFO:tensorflow:loss = 0.97672594, step = 26800 (0.137 sec)\n",
            "INFO:tensorflow:global_step/sec: 778.388\n",
            "INFO:tensorflow:loss = 1.0179601, step = 26900 (0.128 sec)\n",
            "INFO:tensorflow:global_step/sec: 673.652\n",
            "INFO:tensorflow:loss = 0.71535385, step = 27000 (0.153 sec)\n",
            "INFO:tensorflow:global_step/sec: 710.28\n",
            "INFO:tensorflow:loss = 0.7247631, step = 27100 (0.136 sec)\n",
            "INFO:tensorflow:global_step/sec: 781.553\n",
            "INFO:tensorflow:loss = 0.7579473, step = 27200 (0.128 sec)\n",
            "INFO:tensorflow:global_step/sec: 782.987\n",
            "INFO:tensorflow:loss = 0.68002194, step = 27300 (0.128 sec)\n",
            "INFO:tensorflow:global_step/sec: 832.811\n",
            "INFO:tensorflow:loss = 1.3060954, step = 27400 (0.120 sec)\n",
            "INFO:tensorflow:global_step/sec: 770.393\n",
            "INFO:tensorflow:loss = 0.6449862, step = 27500 (0.134 sec)\n",
            "INFO:tensorflow:global_step/sec: 779.15\n",
            "INFO:tensorflow:loss = 2.232844, step = 27600 (0.128 sec)\n",
            "INFO:tensorflow:global_step/sec: 759.444\n",
            "INFO:tensorflow:loss = 0.5039801, step = 27700 (0.132 sec)\n",
            "INFO:tensorflow:global_step/sec: 771.488\n",
            "INFO:tensorflow:loss = 0.9831303, step = 27800 (0.130 sec)\n",
            "INFO:tensorflow:global_step/sec: 741.017\n",
            "INFO:tensorflow:loss = 1.20281, step = 27900 (0.135 sec)\n",
            "INFO:tensorflow:global_step/sec: 705.83\n",
            "INFO:tensorflow:loss = 1.2333499, step = 28000 (0.141 sec)\n",
            "INFO:tensorflow:global_step/sec: 778.489\n",
            "INFO:tensorflow:loss = 0.8553603, step = 28100 (0.129 sec)\n",
            "INFO:tensorflow:global_step/sec: 720.108\n",
            "INFO:tensorflow:loss = 0.5615431, step = 28200 (0.135 sec)\n",
            "INFO:tensorflow:global_step/sec: 773.78\n",
            "INFO:tensorflow:loss = 0.5647341, step = 28300 (0.133 sec)\n",
            "INFO:tensorflow:global_step/sec: 769.761\n",
            "INFO:tensorflow:loss = 1.3299564, step = 28400 (0.129 sec)\n",
            "INFO:tensorflow:global_step/sec: 771.982\n",
            "INFO:tensorflow:loss = 0.86256707, step = 28500 (0.128 sec)\n",
            "INFO:tensorflow:global_step/sec: 765.89\n",
            "INFO:tensorflow:loss = 0.8123468, step = 28600 (0.133 sec)\n",
            "INFO:tensorflow:global_step/sec: 712.982\n",
            "INFO:tensorflow:loss = 0.45585093, step = 28700 (0.144 sec)\n",
            "INFO:tensorflow:global_step/sec: 685.929\n",
            "INFO:tensorflow:loss = 0.8977047, step = 28800 (0.141 sec)\n",
            "INFO:tensorflow:global_step/sec: 728.164\n",
            "INFO:tensorflow:loss = 1.4016403, step = 28900 (0.137 sec)\n",
            "INFO:tensorflow:global_step/sec: 766.977\n",
            "INFO:tensorflow:loss = 0.64559937, step = 29000 (0.133 sec)\n",
            "INFO:tensorflow:global_step/sec: 743.514\n",
            "INFO:tensorflow:loss = 1.2511792, step = 29100 (0.133 sec)\n",
            "INFO:tensorflow:global_step/sec: 755.423\n",
            "INFO:tensorflow:loss = 0.87928045, step = 29200 (0.134 sec)\n",
            "INFO:tensorflow:global_step/sec: 716.14\n",
            "INFO:tensorflow:loss = 0.8868039, step = 29300 (0.139 sec)\n",
            "INFO:tensorflow:global_step/sec: 704.416\n",
            "INFO:tensorflow:loss = 0.815724, step = 29400 (0.138 sec)\n",
            "INFO:tensorflow:global_step/sec: 793.651\n",
            "INFO:tensorflow:loss = 1.1368607, step = 29500 (0.126 sec)\n",
            "INFO:tensorflow:global_step/sec: 745.934\n",
            "INFO:tensorflow:loss = 0.81198436, step = 29600 (0.134 sec)\n",
            "INFO:tensorflow:global_step/sec: 733.465\n",
            "INFO:tensorflow:loss = 0.557939, step = 29700 (0.137 sec)\n",
            "INFO:tensorflow:global_step/sec: 759.429\n",
            "INFO:tensorflow:loss = 0.75721633, step = 29800 (0.134 sec)\n",
            "INFO:tensorflow:global_step/sec: 769.8\n",
            "INFO:tensorflow:loss = 0.61817044, step = 29900 (0.129 sec)\n",
            "INFO:tensorflow:Calling checkpoint listeners before saving checkpoint 30000...\n",
            "INFO:tensorflow:Saving checkpoints for 30000 into /tmp/tmp8kynq9y8/model.ckpt.\n",
            "INFO:tensorflow:Calling checkpoint listeners after saving checkpoint 30000...\n",
            "INFO:tensorflow:Loss for final step: 0.5651638.\n"
          ]
        },
        {
          "output_type": "execute_result",
          "data": {
            "text/plain": [
              "<tensorflow_estimator.python.estimator.canned.dnn.DNNClassifierV2 at 0x7f254f269650>"
            ]
          },
          "metadata": {},
          "execution_count": 20
        }
      ]
    },
    {
      "cell_type": "code",
      "source": [
        "eval_result = classifier.evaluate(\n",
        "    input_fn=lambda: input_fn(deval, y_eval, training=False))\n",
        "\n",
        "print('\\nTest set accuracy: {accuracy:0.3f}\\n'.format(**eval_result))"
      ],
      "metadata": {
        "colab": {
          "base_uri": "https://localhost:8080/"
        },
        "id": "e9v0LIdOJQC8",
        "outputId": "516de681-8cc8-423e-80af-354815b1bff3"
      },
      "execution_count": null,
      "outputs": [
        {
          "output_type": "stream",
          "name": "stdout",
          "text": [
            "INFO:tensorflow:Calling model_fn.\n",
            "INFO:tensorflow:Done calling model_fn.\n",
            "INFO:tensorflow:Starting evaluation at 2022-04-06T12:21:43\n",
            "INFO:tensorflow:Graph was finalized.\n",
            "INFO:tensorflow:Restoring parameters from /tmp/tmp8kynq9y8/model.ckpt-30000\n",
            "INFO:tensorflow:Running local_init_op.\n",
            "INFO:tensorflow:Done running local_init_op.\n",
            "INFO:tensorflow:Inference Time : 0.35062s\n",
            "INFO:tensorflow:Finished evaluation at 2022-04-06-12:21:43\n",
            "INFO:tensorflow:Saving dict for global step 30000: accuracy = 0.69736844, average_loss = 1.0619911, global_step = 30000, loss = 1.0807998\n",
            "INFO:tensorflow:Saving 'checkpoint_path' summary for global step 30000: /tmp/tmp8kynq9y8/model.ckpt-30000\n",
            "\n",
            "Test set accuracy: 0.697\n",
            "\n"
          ]
        }
      ]
    },
    {
      "cell_type": "markdown",
      "source": [
        "NEURAL NETWORK RANDOM LAYERS\n"
      ],
      "metadata": {
        "id": "_TqkZEISwCKa"
      }
    },
    {
      "cell_type": "code",
      "source": [
        "classifier = tf.estimator.DNNClassifier(\n",
        "    feature_columns=feature_columns,\n",
        "    # Two hidden layers of 30 and 10 nodes respectively.\n",
        "    hidden_units=[200, 300, 100, 80, 20],\n",
        "    # The model must choose between 8 classes.\n",
        "    n_classes=8)\n",
        "classifier.train(\n",
        "    input_fn=lambda: input_fn(dftrain1, y_train1, training=True),\n",
        "    steps=10000)\n",
        "classifier.train(\n",
        "    input_fn=lambda: input_fn(dftrain2, y_train2, training=True),\n",
        "    steps=10000)\n",
        "classifier.train(\n",
        "    input_fn=lambda: input_fn(dftrain3, y_train3, training=True),\n",
        "    steps=10000)\n",
        "\n",
        "clear_output()  \n",
        "\n",
        "eval_result = classifier.evaluate(\n",
        "    input_fn=lambda: input_fn(deval, y_eval, training=False))\n",
        "\n",
        "print('\\nTest set accuracy: {accuracy:0.3f}\\n'.format(**eval_result))"
      ],
      "metadata": {
        "colab": {
          "base_uri": "https://localhost:8080/"
        },
        "id": "OdYO0OleULSm",
        "outputId": "a2a85701-7261-4056-a7e8-13383cc38448"
      },
      "execution_count": null,
      "outputs": [
        {
          "output_type": "stream",
          "name": "stdout",
          "text": [
            "INFO:tensorflow:Calling model_fn.\n",
            "INFO:tensorflow:Done calling model_fn.\n",
            "INFO:tensorflow:Starting evaluation at 2022-04-05T20:13:48\n",
            "INFO:tensorflow:Graph was finalized.\n",
            "INFO:tensorflow:Restoring parameters from /tmp/tmpvahyvv5l/model.ckpt-30000\n",
            "INFO:tensorflow:Running local_init_op.\n",
            "INFO:tensorflow:Done running local_init_op.\n",
            "INFO:tensorflow:Inference Time : 0.52391s\n",
            "INFO:tensorflow:Finished evaluation at 2022-04-05-20:13:49\n",
            "INFO:tensorflow:Saving dict for global step 30000: accuracy = 0.5131579, average_loss = 1.6469576, global_step = 30000, loss = 1.6659927\n",
            "INFO:tensorflow:Saving 'checkpoint_path' summary for global step 30000: /tmp/tmpvahyvv5l/model.ckpt-30000\n",
            "\n",
            "Test set accuracy: 0.513\n",
            "\n"
          ]
        }
      ]
    },
    {
      "cell_type": "markdown",
      "source": [
        "UNSUPERVISED LEARNING"
      ],
      "metadata": {
        "id": "BOT-4Z0Gw3Mg"
      }
    },
    {
      "cell_type": "code",
      "source": [
        "clustering = KMeans(n_clusters = 7, random_state = 5)\n",
        "clustering.fit(dftrain1)"
      ],
      "metadata": {
        "colab": {
          "base_uri": "https://localhost:8080/"
        },
        "id": "F3qOkNjbw453",
        "outputId": "c3bbb630-26c8-4cef-a1ef-803c26f0bd58"
      },
      "execution_count": null,
      "outputs": [
        {
          "output_type": "execute_result",
          "data": {
            "text/plain": [
              "KMeans(n_clusters=7, random_state=5)"
            ]
          },
          "metadata": {},
          "execution_count": 22
        }
      ]
    },
    {
      "cell_type": "code",
      "source": [
        "dftrain1.columns"
      ],
      "metadata": {
        "colab": {
          "base_uri": "https://localhost:8080/"
        },
        "id": "9YDNzh9syT6y",
        "outputId": "20be6907-70d6-4a56-cea1-c92c38281ca9"
      },
      "execution_count": null,
      "outputs": [
        {
          "output_type": "execute_result",
          "data": {
            "text/plain": [
              "Index(['Start_time', 'End_Time', 'Event_Duration', 'Position_X', 'Position_Y'], dtype='object')"
            ]
          },
          "metadata": {},
          "execution_count": 23
        }
      ]
    },
    {
      "cell_type": "code",
      "source": [
        "color_theme = np.array(['black', 'darkgray', 'lightcoral', 'orangered', 'peru', 'yellow', 'green', 'blue'])\n",
        "\n",
        "plt.subplot(1,2,1)\n",
        "\n",
        "plt.scatter(x = dftrain1.Position_X, y = dftrain1.Position_Y, c = color_theme[y_train1])\n",
        "\n",
        "plt.title('Ground Truth Classification')\n",
        "\n",
        "plt.subplot(1,2,2)\n",
        "\n",
        "plt.scatter(x = dftrain1.Position_X, y = dftrain1.Position_Y, c = color_theme[relabel])\n",
        "\n",
        "plt.title('KMeans Classification')"
      ],
      "metadata": {
        "colab": {
          "base_uri": "https://localhost:8080/",
          "height": 298
        },
        "id": "KXxMIZFiyfbT",
        "outputId": "b5bf9886-85d5-4642-d809-637dea6384d9"
      },
      "execution_count": null,
      "outputs": [
        {
          "output_type": "execute_result",
          "data": {
            "text/plain": [
              "Text(0.5, 1.0, 'KMeans Classification')"
            ]
          },
          "metadata": {},
          "execution_count": 28
        },
        {
          "output_type": "display_data",
          "data": {
            "text/plain": [
              "<Figure size 432x288 with 2 Axes>"
            ],
            "image/png": "[encoded data removed]"
          },
          "metadata": {
            "needs_background": "light"
          }
        }
      ]
    },
    {
      "cell_type": "code",
      "source": [
        "test = pd.DataFrame(clustering.labels_)\n",
        "test.value_counts().plot(kind = 'bar')"
      ],
      "metadata": {
        "colab": {
          "base_uri": "https://localhost:8080/",
          "height": 304
        },
        "id": "qFlMjYa26hyO",
        "outputId": "82e320a2-292c-4268-b775-462b26f0a664"
      },
      "execution_count": null,
      "outputs": [
        {
          "output_type": "execute_result",
          "data": {
            "text/plain": [
              "<matplotlib.axes._subplots.AxesSubplot at 0x7f254ac90b50>"
            ]
          },
          "metadata": {},
          "execution_count": 26
        },
        {
          "output_type": "display_data",
          "data": {
            "text/plain": [
              "<Figure size 432x288 with 1 Axes>"
            ],
            "image/png": "[encoded data removed]"
          },
          "metadata": {
            "needs_background": "light"
          }
        }
      ]
    },
    {
      "cell_type": "code",
      "source": [
        "y_train1.value_counts().plot(kind = 'bar')\n",
        "relabel = np.choose ( clustering.labels_,[1,5,7,6,2,4,3]).astype(np.int64)"
      ],
      "metadata": {
        "colab": {
          "base_uri": "https://localhost:8080/",
          "height": 262
        },
        "id": "gSDjgujn6tSV",
        "outputId": "d8cc5d1f-d0ef-4906-c11b-ad39d5b52782"
      },
      "execution_count": null,
      "outputs": [
        {
          "output_type": "display_data",
          "data": {
            "text/plain": [
              "<Figure size 432x288 with 1 Axes>"
            ],
            "image/png": "[encoded data removed]"
          },
          "metadata": {
            "needs_background": "light"
          }
        }
      ]
    },
    {
      "cell_type": "code",
      "source": [
        "test = pd.DataFrame(relabel)\n",
        "test.value_counts().plot(kind = 'bar')"
      ],
      "metadata": {
        "colab": {
          "base_uri": "https://localhost:8080/",
          "height": 304
        },
        "id": "FkQp74Mf96GL",
        "outputId": "e19227ea-58d6-456b-faab-58e8b53fa206"
      },
      "execution_count": null,
      "outputs": [
        {
          "output_type": "execute_result",
          "data": {
            "text/plain": [
              "<matplotlib.axes._subplots.AxesSubplot at 0x7f8f8e9129d0>"
            ]
          },
          "metadata": {},
          "execution_count": 76
        },
        {
          "output_type": "display_data",
          "data": {
            "text/plain": [
              "<Figure size 432x288 with 1 Axes>"
            ],
            "image/png": "[encoded data removed]"
          },
          "metadata": {
            "needs_background": "light"
          }
        }
      ]
    },
    {
      "cell_type": "code",
      "source": [
        "print(classification_report(y_train1,relabel))"
      ],
      "metadata": {
        "colab": {
          "base_uri": "https://localhost:8080/"
        },
        "id": "CnOTMBMs88SF",
        "outputId": "94a229b6-c4f1-42ac-c9e8-5e1776a7a623"
      },
      "execution_count": null,
      "outputs": [
        {
          "output_type": "stream",
          "name": "stdout",
          "text": [
            "              precision    recall  f1-score   support\n",
            "\n",
            "           1       0.00      0.00      0.00         9\n",
            "           2       0.62      0.83      0.71        18\n",
            "           3       0.14      0.18      0.15        17\n",
            "           4       0.00      0.00      0.00        35\n",
            "           5       0.00      0.00      0.00        50\n",
            "           6       0.29      0.35      0.32        20\n",
            "           7       0.00      0.00      0.00        17\n",
            "\n",
            "    accuracy                           0.15       166\n",
            "   macro avg       0.15      0.19      0.17       166\n",
            "weighted avg       0.12      0.15      0.13       166\n",
            "\n"
          ]
        }
      ]
    },
    {
      "cell_type": "code",
      "source": [
        "clustering = KMeans(n_clusters = 7, random_state = 5)\n",
        "clustering.fit(dftrain2)"
      ],
      "metadata": {
        "colab": {
          "base_uri": "https://localhost:8080/"
        },
        "id": "Zv9_V_kT33dl",
        "outputId": "a669038f-783a-4ac3-c271-31ac3fbfd817"
      },
      "execution_count": null,
      "outputs": [
        {
          "output_type": "execute_result",
          "data": {
            "text/plain": [
              "KMeans(n_clusters=7, random_state=5)"
            ]
          },
          "metadata": {},
          "execution_count": 50
        }
      ]
    },
    {
      "cell_type": "code",
      "source": [
        "color_theme = np.array(['black', 'darkgray', 'lightcoral', 'orangered', 'peru', 'yellow', 'green', 'blue'])\n",
        "\n",
        "plt.subplot(1,2,1)\n",
        "\n",
        "plt.scatter(x = dftrain2.Position_X, y = dftrain2.Position_Y, c = color_theme[y_train2])\n",
        "\n",
        "plt.title('Ground Truth Classification')\n",
        "\n",
        "plt.subplot(1,2,2)\n",
        "\n",
        "plt.scatter(x = dftrain2.Position_X, y = dftrain2.Position_Y, c = color_theme[clustering.labels_])\n",
        "\n",
        "plt.title('KMeans Classification')"
      ],
      "metadata": {
        "colab": {
          "base_uri": "https://localhost:8080/",
          "height": 298
        },
        "id": "JSVGCMPD5Zor",
        "outputId": "fa2d739c-3895-47d0-8002-bd98829b1e42"
      },
      "execution_count": null,
      "outputs": [
        {
          "output_type": "execute_result",
          "data": {
            "text/plain": [
              "Text(0.5, 1.0, 'KMeans Classification')"
            ]
          },
          "metadata": {},
          "execution_count": 33
        },
        {
          "output_type": "display_data",
          "data": {
            "text/plain": [
              "<Figure size 432x288 with 2 Axes>"
            ],
            "image/png": "[encoded data removed]"
          },
          "metadata": {
            "needs_background": "light"
          }
        }
      ]
    },
    {
      "cell_type": "code",
      "source": [
        "y_train2.value_counts().plot(kind = 'bar')"
      ],
      "metadata": {
        "colab": {
          "base_uri": "https://localhost:8080/",
          "height": 364
        },
        "id": "AcptnPZ55jtH",
        "outputId": "1b2e9ed6-747f-41c4-c6b8-77fb9b149c27"
      },
      "execution_count": null,
      "outputs": [
        {
          "output_type": "stream",
          "name": "stdout",
          "text": [
            "[3 3 3 3 3 3 3 3 3 3 3 3 3 3 3 3 3 3 3 3 3 3 3 3 3 3 5 5 5 5 5 5 5 5 5 5 5\n",
            " 5 5 5 5 5 5 5 5 5 5 5 5 5 5 5 5 1 1 1 1 1 1 1 1 1 1 1 1 1 1 1 1 1 1 1 2 2\n",
            " 2 2 2 2 2 2 2 2 2 2 2 2 2 2 2 2 6 6 6 6 6 6 6 6 6 6 6 6 6 6 6 6 6 6 6 6 4\n",
            " 4 4 4 4 4 4 4 4 4 4 4 4 4 4 4 4 4 4 4 4 4 4 4 4 4 4 4 4 4 4 4 0 0 0 0 0 0\n",
            " 0 0 0 0 0 0 0 0 0 0 0 0 0 0 0]\n"
          ]
        },
        {
          "output_type": "execute_result",
          "data": {
            "text/plain": [
              "<matplotlib.axes._subplots.AxesSubplot at 0x7f8f8f0a2690>"
            ]
          },
          "metadata": {},
          "execution_count": 41
        },
        {
          "output_type": "display_data",
          "data": {
            "text/plain": [
              "<Figure size 432x288 with 1 Axes>"
            ],
            "image/png": "[encoded data removed]"
          },
          "metadata": {
            "needs_background": "light"
          }
        }
      ]
    },
    {
      "cell_type": "code",
      "source": [
        "test = pd.DataFrame(clustering.labels_)\n",
        "test.value_counts().plot(kind = 'bar')"
      ],
      "metadata": {
        "colab": {
          "base_uri": "https://localhost:8080/",
          "height": 304
        },
        "id": "uR9iqBG36L3q",
        "outputId": "4a02a86b-7ca1-4bf0-e218-97cd424bb492"
      },
      "execution_count": null,
      "outputs": [
        {
          "output_type": "execute_result",
          "data": {
            "text/plain": [
              "<matplotlib.axes._subplots.AxesSubplot at 0x7f8f903aa850>"
            ]
          },
          "metadata": {},
          "execution_count": 44
        },
        {
          "output_type": "display_data",
          "data": {
            "text/plain": [
              "<Figure size 432x288 with 1 Axes>"
            ],
            "image/png": "[encoded data removed]"
          },
          "metadata": {
            "needs_background": "light"
          }
        }
      ]
    },
    {
      "cell_type": "code",
      "source": [
        ""
      ],
      "metadata": {
        "colab": {
          "base_uri": "https://localhost:8080/",
          "height": 164
        },
        "id": "rS-1dtct7V0A",
        "outputId": "29017470-5300-4c72-cf9a-f4f11913a3c3"
      },
      "execution_count": null,
      "outputs": [
        {
          "output_type": "error",
          "ename": "NameError",
          "evalue": "ignored",
          "traceback": [
            "\u001b[0;31m---------------------------------------------------------------------------\u001b[0m",
            "\u001b[0;31mNameError\u001b[0m                                 Traceback (most recent call last)",
            "\u001b[0;32m<ipython-input-51-82418dcd3e0d>\u001b[0m in \u001b[0;36m<module>\u001b[0;34m()\u001b[0m\n\u001b[0;32m----> 1\u001b[0;31m \u001b[0mprint\u001b[0m\u001b[0;34m(\u001b[0m\u001b[0mclassification_report\u001b[0m\u001b[0;34m(\u001b[0m\u001b[0my_train2\u001b[0m\u001b[0;34m,\u001b[0m\u001b[0mrelabel\u001b[0m\u001b[0;34m)\u001b[0m\u001b[0;34m)\u001b[0m\u001b[0;34m\u001b[0m\u001b[0;34m\u001b[0m\u001b[0m\n\u001b[0m",
            "\u001b[0;31mNameError\u001b[0m: name 'relabel' is not defined"
          ]
        }
      ]
    }
  ]
}